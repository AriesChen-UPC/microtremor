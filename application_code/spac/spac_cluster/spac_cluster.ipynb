{
 "cells": [
  {
   "cell_type": "code",
   "execution_count": 43,
   "outputs": [
    {
     "name": "stdout",
     "output_type": "stream",
     "text": [
      "spac_cluster.ipynb\n",
      "This code is designead to sort the SPAC using keans and plot the result with plotly.\n"
     ]
    }
   ],
   "source": [
    "# author: Aries Chen\n",
    "# contact: s15010125@s.upc.edu.cn\n",
    "# time: 05/11/2021\n",
    "# update:06/11/2021\n",
    "print('spac_cluster.ipynb\\nThis code is designead to sort the SPAC using keans and plot the result with plotly.')\n"
   ],
   "metadata": {
    "collapsed": false,
    "pycharm": {
     "name": "#%% Ifo of the spac_cluster.ipynb code\n"
    }
   }
  },
  {
   "cell_type": "code",
   "execution_count": 44,
   "outputs": [
    {
     "name": "stdout",
     "output_type": "stream",
     "text": [
      "Start of the program SPAC clusters :)\n"
     ]
    }
   ],
   "source": [
    "print('Start of the program SPAC clusters :)')\n",
    "import os\n",
    "import tkinter as tk\n",
    "from tkinter import filedialog\n",
    "from glob import glob\n",
    "from pathlib import Path\n",
    "import numpy as np\n",
    "from scipy.cluster.vq import kmeans, vq\n",
    "from pandas import DataFrame\n",
    "from ioGpy import AutocorrTarget\n",
    "from read_page import read_page\n",
    "import plotly\n",
    "from plotly.subplots import make_subplots\n",
    "import plotly.graph_objects as go\n",
    "import plotly.io as pio\n",
    "import time\n",
    "from tqdm import trange\n",
    "import math\n",
    "import matplotlib.pyplot as plt\n",
    "from scipy.special import *"
   ],
   "metadata": {
    "collapsed": false,
    "pycharm": {
     "name": "#%% import package\n"
    }
   }
  },
  {
   "cell_type": "code",
   "execution_count": 45,
   "outputs": [
    {
     "name": "stdout",
     "output_type": "stream",
     "text": [
      "-------------------------Ifo-------------------------\n",
      "FolderPath: D:/ProjectMaterials/Chengdu_Line13/Part_06/DataProcess/20211127/SPAC_2m/L06\n",
      "FolderType: This folder has a total of [.target] file 9 \n",
      "-------------------------Ifo-------------------------\n",
      "The total number of rings is : 1\n"
     ]
    },
    {
     "name": "stderr",
     "output_type": "stream",
     "text": [
      "  0%|          | 0/9 [00:00<?, ?it/s]"
     ]
    },
    {
     "name": "stdout",
     "output_type": "stream",
     "text": [
      "----------------------Loading...---------------------\n"
     ]
    },
    {
     "name": "stderr",
     "output_type": "stream",
     "text": [
      "100%|██████████| 9/9 [00:01<00:00,  5.40it/s]"
     ]
    },
    {
     "name": "stdout",
     "output_type": "stream",
     "text": [
      "Time cost 2.973127603530884 s\n",
      "-----------------------Loaded!-----------------------\n"
     ]
    },
    {
     "name": "stderr",
     "output_type": "stream",
     "text": [
      "\n"
     ]
    }
   ],
   "source": [
    "# choose the path\n",
    "root = tk.Tk()\n",
    "root.withdraw()\n",
    "Folderpath = filedialog.askdirectory()\n",
    "print('-------------------------Ifo-------------------------')\n",
    "print('FolderPath:', Folderpath)\n",
    "root.destroy()\n",
    "# file type ifo in the selected file path\n",
    "all_files = os.listdir(Folderpath)\n",
    "type_dict = dict()\n",
    "for each_file in all_files:\n",
    "    if os.path.isdir(each_file):\n",
    "        type_dict.setdefault('Folders', 0)\n",
    "        type_dict['Folders'] += 1\n",
    "    else:\n",
    "        ext = os.path.splitext(each_file)[1]\n",
    "        type_dict.setdefault(ext, 0)\n",
    "        type_dict[ext] += 1\n",
    "for each_type in type_dict.keys():\n",
    "    print('FolderType: This folder has a total of [%s] file %d ' % (each_type, type_dict[each_type]))\n",
    "print('-------------------------Ifo-------------------------')\n",
    "# check the file type\n",
    "# print('The filetype is .target. Y/N ?')\n",
    "fileType = input('The filetype is .target. Y/N ?').upper()  # change the char to upper format\n",
    "# read the SPAC data from .page or .target\n",
    "start_time_01 = time.time()\n",
    "if fileType == 'Y':\n",
    "    fs = glob(Folderpath + '/*.target')\n",
    "    names = []\n",
    "    targetInstance = AutocorrTarget()\n",
    "    targetInstance.load(fs[0])\n",
    "    totalNumRing = len(targetInstance.AutocorrCurves.ModalCurve)\n",
    "    print('The total number of rings is : ' + str(totalNumRing))\n",
    "    numRings = int(input('Please select the ring: ' + 'from 1 to ' + str(totalNumRing))) - 1\n",
    "    radius = targetInstance.AutocorrCurves.AutocorrRing[numRings]\n",
    "    freqLen = 300  # set the data dimension\n",
    "    spac = []\n",
    "    freq = []\n",
    "    print('----------------------Loading...---------------------')\n",
    "    for i in trange(len(fs)):\n",
    "        time.sleep(0.1)\n",
    "        names.append(Path(fs[i]).stem)\n",
    "    # for i in range(len(fs)):\n",
    "        targetInstance.load(fs[i])\n",
    "        spac.append(targetInstance.AutocorrCurves.ModalCurve[numRings].RealStatisticalPoint['mean'][-301:-1])\n",
    "        freq.append(targetInstance.AutocorrCurves.ModalCurve[numRings].RealStatisticalPoint['x'][-301:-1])\n",
    "        # todo: read freq automatically\n",
    "else:\n",
    "    fs = glob(Folderpath + '/*.page')\n",
    "    names = []\n",
    "    for i in range(len(fs)):\n",
    "        names.append(Path(fs[i]).stem)\n",
    "    totalNumRing = len(read_page(fs[0])[0])\n",
    "    print('The total number of rings is : ' + str(totalNumRing))\n",
    "    numRings = int(input('Please select the ring: ' + 'from 1 to ' + str(totalNumRing))) - 1\n",
    "    freqLen = 300  # set the data dimension\n",
    "    spac = []\n",
    "    freq = []\n",
    "    for i in range(len(fs)):\n",
    "        print(fs[i])\n",
    "        spac.append(read_page(fs[i])[0][numRings]['spac'][-301:-1])  # fixme: data dimension is not the same\n",
    "        freq.append(read_page(fs[i])[0][numRings]['freq'][-301:-1])  # fixme: delete the nan data in list\n",
    "end_time_01 = time.time()\n",
    "print('Time cost',end_time_01-start_time_01,'s')\n",
    "print('-----------------------Loaded!-----------------------')"
   ],
   "metadata": {
    "collapsed": false,
    "pycharm": {
     "name": "#%% choose the file path and load data\n"
    }
   }
  },
  {
   "cell_type": "code",
   "execution_count": 46,
   "outputs": [
    {
     "name": "stdout",
     "output_type": "stream",
     "text": [
      "------------------Cluster Parameter------------------\n",
      "The min frequency is 4.0Hz\n",
      "The max frequency is 10.0Hz\n",
      "The cluster number is 2\n",
      "Time cost 6.3062849044799805 s\n",
      "-----------------Parameter setted--------------------\n"
     ]
    }
   ],
   "source": [
    "# kernal\n",
    "print('------------------Cluster Parameter------------------')\n",
    "start_time_02 = time.time()\n",
    "k1 = np.array([-0.02306931, -0.1056576, 0.13388212, -0.02341026, -0.0126199,\n",
    "               -0.04117879, -0.02753881, 0.08565462, -0.20602849, 0.20614131,\n",
    "               -0.14900643, 0.11359798, -0.09662029, 0.05987384, -0.10340957,\n",
    "               0.1164462, 0.06197933, -0.06145484, -0.27048752, 0.17245993,\n",
    "               0.17806824, -0.03125308, -0.19900371, 0.11171456, 0.09432922,\n",
    "               -0.21939862, 0.01255652, -0.32677427, -0.4083756, 0.04717418,\n",
    "               0.05470994, 0.29249766, 0.33997664, -0.21587674, -0.01858459,\n",
    "               0.13910776, -0.18480915, 0.07169731, 0.17088659, 0.08077492,\n",
    "               0.01491521, -0.06912256, -0.06817471, 0.05515498, 0.08658582,\n",
    "               0.11424139, -0.0416302, 0.04017343, 0.0067895, -0.052115,\n",
    "               0.07161448, 0.03834576, -0.08015742, 0.05258898, -0.00586048,\n",
    "               -0.00896439, 0.04149655, 0.00454619, -0.00991248, 0.05561759,\n",
    "               -0.02137935, -0.03790385, 0.03550394, 0.04025659, -0.03533922,\n",
    "               0.01554128, 0.00957493, -0.0150793, 0.01997719, -0.00605633,\n",
    "               -0.01840421, 0.00213903], dtype=np.float32)\n",
    "k2 = np.array([0.09681424, 0.0125695, -0.03296668, -0.06259093, 0.02641451,\n",
    "               0.02264782, -0.03527348, -0.01100035, -0.00835153, 0.15201114,\n",
    "               -0.00604084, -0.06569929, -0.05707217, 0.08184609, -0.03801537,\n",
    "               0.02860055, 0.02736357, 0.04610762, 0.02690667, 0.00431063,\n",
    "               -0.05841798, 0.01170933, 0.04377702, 0.03132229, 0.01884418,\n",
    "               0.00706555, 0.02693376, 0.00865195, -0.08379597, 0.3851489,\n",
    "               -0.26176456, -0.12142022, 0.13912982, 0.02746409, -0.2967254,\n",
    "               0.18555762, 1.4003265, 0.48990425, -0.61164373, -0.2229173,\n",
    "               -0.35163, 0.02921563, -0.14746712, 0.336639, -0.61782324,\n",
    "               0.08492271, 0.10232697, -0.2795302, 0.2924005, -0.23487124,\n",
    "               -0.11624496, 0.10293019, -0.06085368, -0.15410152, 0.2654883,\n",
    "               -0.31394354, 0.05724258, -0.11718074, 0.01887048, 0.06616369,\n",
    "               -0.01266902, -0.02204721, -0.06348757, -0.0873571, 0.08890857,\n",
    "               -0.014294, 0.02892015, 0.010807, -0.01736347, -0.04279665,\n",
    "               -0.02214473, -0.03366138], dtype=np.float32)\n",
    "# define the min & max freq\n",
    "min_freq = float(input('Min freq: from ' + str(round(min(freq[0]))) + 'Hz to ' + str(round(max(freq[0]))) + 'Hz\\n'))\n",
    "max_freq = float(input('Max freq: from ' + str(round(min(freq[0]))) + 'Hz to ' + str(round(max(freq[0]))) + 'Hz\\n'))\n",
    "freq_scope = np.array(freq[0])\n",
    "sel = (freq_scope >= min_freq) & (freq_scope <= max_freq)\n",
    "detail = np.zeros(shape=(len(fs), sel.sum()))\n",
    "detail1 = np.zeros(shape=(len(fs), freqLen))\n",
    "for j in range(len(fs)):\n",
    "    temp2 = np.convolve(spac[j], k1, 'same')[sel]\n",
    "    temp3 = np.convolve(spac[j], k2, 'same')[sel]\n",
    "    temp4 = np.convolve(spac[j], k1, 'same')\n",
    "    temp5 = np.convolve(spac[j], k2, 'same')\n",
    "    detail[j:] = temp2 + temp3\n",
    "    detail1[j:] = temp4 + temp5\n",
    "# set the clusters number\n",
    "n_clusters = int(input('Please input the number of clusters: 1 <= n_clusters <= ' + str(len(fs)) + '\\n'))\n",
    "for i in range(99):  # check the clusters number\n",
    "    if n_clusters <= 0 | n_clusters > len(fs):\n",
    "        n_clusters = int(input('Please Re-enter the n_clusters: 1 <= n_clusters <= ' + str(len(fs))))\n",
    "    else:\n",
    "        break\n",
    "centroid, _ = kmeans(detail, n_clusters)\n",
    "cluster, _ = vq(detail, centroid)\n",
    "cluster = cluster.tolist()\n",
    "freq = DataFrame(freq)  # list2DataFrame\n",
    "spac = DataFrame(spac)  # list2DataFrame\n",
    "print('The min frequency is ' + str(min_freq) + 'Hz')\n",
    "print('The max frequency is ' + str(max_freq) + 'Hz')\n",
    "print('The cluster number is ' + str(n_clusters))\n",
    "end_time_02 = time.time()\n",
    "print('Time cost',end_time_02-start_time_02,'s')\n",
    "print('-----------------Parameter setted--------------------')"
   ],
   "metadata": {
    "collapsed": false,
    "pycharm": {
     "name": "#%% kernel parameter set\n"
    }
   }
  },
  {
   "cell_type": "code",
   "execution_count": 47,
   "outputs": [
    {
     "name": "stdout",
     "output_type": "stream",
     "text": [
      "------------------Model Parameter--------------------\n",
      "The initialized Vs0 is 1500m/s\n",
      "Time cost 2.8334083557128906 s\n",
      "-------------------Model Setted!---------------------\n"
     ]
    }
   ],
   "source": [
    "# calculate the theory SPAC\n",
    "print('------------------Model Parameter--------------------')\n",
    "start_time_03 = time.time()\n",
    "# set the radius\n",
    "r = radius  # get the radius from the .target file\n",
    "freqSPAC = np.logspace(np.log10(0.1), np.log10(100), num=400)\n",
    "# todo: set the Vs0\n",
    "Vs0 = int(input('Please input the Vs0 of initialization model: ...m/s \\n'))\n",
    "Vs = np.dot(Vs0, [math.pow(f, -0.65) for f in freqSPAC])  # fixme: only size-1 arrays can be converted to Python scalars\n",
    "autoCorrRatio = jn(0, np.multiply(r*2*math.pi*freqSPAC, [math.pow(v, -1) for v in Vs]))\n",
    "freqSPAC = DataFrame(freqSPAC)\n",
    "freqSPAC.columns = ['freq']\n",
    "autoCorrRatio = DataFrame(autoCorrRatio)\n",
    "autoCorrRatio.columns = ['autoCorrRatio']\n",
    "Vs = DataFrame(Vs)\n",
    "Vs.columns = ['Vs']\n",
    "# plot the initialized model\n",
    "pio.templates.default = \"plotly_white\"  # set the plotly templates\n",
    "fig = go.Figure(data=go.Scatter(x=freqSPAC['freq'], y=Vs['Vs'], name='dispersion curve'))\n",
    "fig.update_xaxes(title_text=\"Frequency (Hz)\")\n",
    "fig.update_yaxes(title_text=\"Velocity (m/s)\")\n",
    "fig.update_xaxes(type=\"log\")\n",
    "fig.update_xaxes(range=[np.log10(1), np.log10(100)])\n",
    "fig.update_yaxes(range=[0, 2000], tick0=0.0, dtick=200)\n",
    "fig.update_layout(title='Initialized Model & ' + 'Vs0 = ' + str(Vs0) + 'm/s', showlegend=False)\n",
    "plotly.offline.plot(fig, filename=Folderpath + '/' + 'model.html')\n",
    "end_time_03 = time.time()\n",
    "print('The initialized Vs0 is ' + str(Vs0) + 'm/s')\n",
    "print('Time cost',end_time_03-start_time_03,'s')\n",
    "print('-------------------Model Setted!---------------------')"
   ],
   "metadata": {
    "collapsed": false,
    "pycharm": {
     "name": "#%% define the theory model\n"
    }
   }
  },
  {
   "cell_type": "code",
   "source": [
    "# define the plotly subplot\n",
    "pio.templates.default = \"plotly_white\"  # set the plotly templates\n",
    "if n_clusters == 1:\n",
    "    fig = make_subplots(rows=1, cols=1)\n",
    "    count = 0\n",
    "    for k in range(len(fs)):\n",
    "        count = count + 1\n",
    "        fig.add_trace(go.Scatter(x=freq.iloc[k], y=spac.iloc[k], name=names[k]),  # todo: legend is not visible\n",
    "                      row=1, col=1)\n",
    "        fig.add_trace(go.Scatter(x=freqSPAC['freq'], y=autoCorrRatio['autoCorrRatio'], name='theory SPAC',\n",
    "                                 mode='lines',\n",
    "                                 line=dict(\n",
    "                                     color='rgb(132,133,135)',\n",
    "                                     width=2,\n",
    "                                     dash='dash')),\n",
    "                      row=1, col=1)\n",
    "elif n_clusters == 2:\n",
    "    fig = make_subplots(rows=1, cols=2)\n",
    "    count = 0\n",
    "    for k in range(len(fs)):\n",
    "        count = count + 1\n",
    "        if cluster[k] == 0:\n",
    "            fig.add_trace(go.Scatter(x=freq.iloc[k], y=spac.iloc[k], name=names[k]),\n",
    "                          row=1, col=1)\n",
    "            fig.add_trace(go.Scatter(x=freqSPAC['freq'], y=autoCorrRatio['autoCorrRatio'], name='theory SPAC',\n",
    "                                     mode='lines',\n",
    "                                     line=dict(\n",
    "                                         color='rgb(132,133,135)',\n",
    "                                         width=2,\n",
    "                                         dash='dash')),\n",
    "                          row=1, col=1)\n",
    "        else:\n",
    "            fig.add_trace(go.Scatter(x=freq.iloc[k], y=spac.iloc[k], name=names[k]),\n",
    "                          row=1, col=2)\n",
    "            fig.add_trace(go.Scatter(x=freqSPAC['freq'], y=autoCorrRatio['autoCorrRatio'], name='theory SPAC',\n",
    "                                     mode='lines',\n",
    "                                     line=dict(\n",
    "                                         color='rgb(132,133,135)',\n",
    "                                         width=2,\n",
    "                                         dash='dash')),\n",
    "                          row=1, col=2)\n",
    "elif n_clusters == 3:\n",
    "    fig = make_subplots(rows=1, cols=3)\n",
    "    count = 0\n",
    "    for k in range(len(fs)):\n",
    "        count = count + 1\n",
    "        if cluster[k] == 0:\n",
    "            fig.add_trace(go.Scatter(x=freq.iloc[k], y=spac.iloc[k], name=names[k]),\n",
    "                          row=1, col=1)\n",
    "            fig.add_trace(go.Scatter(x=freqSPAC['freq'], y=autoCorrRatio['autoCorrRatio'], name='theory SPAC',\n",
    "                                     mode='lines',\n",
    "                                     line=dict(\n",
    "                                         color='rgb(132,133,135)',\n",
    "                                         width=2,\n",
    "                                         dash='dash')),\n",
    "                          row=1, col=1)\n",
    "        elif cluster[k] == 1:\n",
    "            fig.add_trace(go.Scatter(x=freq.iloc[k], y=spac.iloc[k], name=names[k]),\n",
    "                          row=1, col=2)\n",
    "            fig.add_trace(go.Scatter(x=freqSPAC['freq'], y=autoCorrRatio['autoCorrRatio'], name='theory SPAC',\n",
    "                                     mode='lines',\n",
    "                                     line=dict(\n",
    "                                         color='rgb(132,133,135)',\n",
    "                                         width=2,\n",
    "                                         dash='dash')),\n",
    "                          row=1, col=2)\n",
    "        else:\n",
    "            fig.add_trace(go.Scatter(x=freq.iloc[k], y=spac.iloc[k], name=names[k]),\n",
    "                          row=1, col=3)\n",
    "            fig.add_trace(go.Scatter(x=freqSPAC['freq'], y=autoCorrRatio['autoCorrRatio'], name='theory SPAC',\n",
    "                                     mode='lines',\n",
    "                                     line=dict(\n",
    "                                         color='rgb(132,133,135)',\n",
    "                                         width=2,\n",
    "                                         dash='dash')),\n",
    "                          row=1, col=3)\n",
    "else:\n",
    "    numRow = 2\n",
    "    numCol = int(np.ceil(n_clusters / 2))\n",
    "    fig = make_subplots(rows=numRow, cols=numCol)\n",
    "    for z in range(n_clusters):  # z is the number of classification\n",
    "        count = 0\n",
    "        for k in range(len(fs)):\n",
    "            if cluster[k] == z:\n",
    "                count = count + 1\n",
    "                if z < numCol:\n",
    "                    fig.add_trace(go.Scatter(x=freq.iloc[k], y=spac.iloc[k], name=names[k]),\n",
    "                                  row=1, col=z+1)\n",
    "                    fig.add_trace(go.Scatter(x=freqSPAC['freq'], y=autoCorrRatio['autoCorrRatio'], name='theory SPAC',\n",
    "                                             mode='lines',\n",
    "                                             line=dict(\n",
    "                                                 color='rgb(132,133,135)',\n",
    "                                                 width=2,\n",
    "                                                 dash='dash')),\n",
    "                                  row=1, col=z+1)\n",
    "                else:\n",
    "                    fig.add_trace(go.Scatter(x=freq.iloc[k], y=spac.iloc[k], name=names[k]),\n",
    "                                  row=2, col=z+1-numCol)\n",
    "                    fig.add_trace(go.Scatter(x=freqSPAC['freq'], y=autoCorrRatio['autoCorrRatio'], name='theory SPAC',\n",
    "                                             mode='lines',\n",
    "                                             line=dict(\n",
    "                                                 color='rgb(132,133,135)',\n",
    "                                                 width=2,\n",
    "                                                 dash='dash')),\n",
    "                                  row=2, col=z+1-numCol)\n",
    "# update the plot frame\n",
    "fig.update_xaxes(type=\"log\")\n",
    "fig.update_xaxes(range=[np.log10(2), np.log10(100)])\n",
    "fig.update_yaxes(range=[-0.6, 1.0], tick0=0.0, dtick=0.2)\n",
    "fig.update_xaxes(title_text=\"Frequency (Hz)\")\n",
    "fig.update_yaxes(title_text=\"Autocorr ratio\")\n",
    "fig.update_layout(title='SPAC cluster & ' + 'Ring = ' + str(radius) + 'm', showlegend=False)\n",
    "# print the Classification result of SPAC\n",
    "for z in range(n_clusters):\n",
    "    print('Group {:.0f} '.format(z + 1))\n",
    "    for i in range(len(fs)):\n",
    "        if cluster[i] == z:\n",
    "            print(names[i])\n",
    "# save the .html file\n",
    "htmlFileName = Folderpath.split(\"/\")[-1] + '_SPAC_Cluster' + '.html'\n",
    "plotly.offline.plot(fig, filename=Folderpath + '/' + htmlFileName)\n",
    "print('------------------------Done!------------------------')\n"
   ],
   "metadata": {
    "collapsed": false,
    "pycharm": {
     "name": "#%% plot the reault with plotly\n"
    }
   },
   "execution_count": 48,
   "outputs": [
    {
     "name": "stdout",
     "output_type": "stream",
     "text": [
      "Group 1 \n",
      "L6-13-15\n",
      "Group 2 \n",
      "L6-1-3\n",
      "L6-10-12\n",
      "L6-11-13\n",
      "L6-2-4\n",
      "L6-4-6\n",
      "L6-5-7\n",
      "L6-7-9\n",
      "L6-8-10\n",
      "------------------------Done!------------------------\n"
     ]
    }
   ]
  }
 ],
 "metadata": {
  "kernelspec": {
   "name": "pycharm-d876540c",
   "language": "python",
   "display_name": "PyCharm (DataProcess)"
  },
  "language_info": {
   "codemirror_mode": {
    "name": "ipython",
    "version": 2
   },
   "file_extension": ".py",
   "mimetype": "text/x-python",
   "name": "python",
   "nbconvert_exporter": "python",
   "pygments_lexer": "ipython2",
   "version": "2.7.6"
  }
 },
 "nbformat": 4,
 "nbformat_minor": 0
}