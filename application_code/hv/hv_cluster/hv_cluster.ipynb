{
 "cells": [
  {
   "cell_type": "code",
   "execution_count": 5,
   "metadata": {
    "collapsed": true,
    "pycharm": {
     "name": "#%% Ifo of the hv_cluster.ipynb code\n"
    }
   },
   "outputs": [],
   "source": [
    "# author: LijiongChen\n",
    "# contact: s15010125@s.upc.edu.cn\n",
    "# time:19/06/2021\n",
    "# update:06/11/2021\n",
    "# file: hv_cluster.ipynb\n",
    "#       This code is designead to sort the HVSR using keans and plot the result with plotly."
   ]
  },
  {
   "cell_type": "code",
   "execution_count": 6,
   "outputs": [],
   "source": [
    "import os\n",
    "import tkinter as tk\n",
    "from tkinter import filedialog\n",
    "from pathlib import Path\n",
    "from glob import glob\n",
    "import pandas as pd\n",
    "import numpy as np\n",
    "from scipy.cluster.vq import kmeans, vq\n",
    "import plotly\n",
    "from plotly.subplots import make_subplots\n",
    "import plotly.graph_objects as go\n",
    "import plotly.io as pio\n",
    "import time\n",
    "from tqdm import trange"
   ],
   "metadata": {
    "collapsed": false,
    "pycharm": {
     "name": "#%% import package\n"
    }
   }
  },
  {
   "cell_type": "code",
   "execution_count": 7,
   "outputs": [
    {
     "name": "stdout",
     "output_type": "stream",
     "text": [
      "Start of the program :)\n",
      "Folderpath: D:/ProjectMaterials/Chengdu_Line13/Part_01/DataProcess/20211125/B/HV\n",
      "FolderType: This folder has a total of [.hv] file 72 \n"
     ]
    },
    {
     "name": "stderr",
     "output_type": "stream",
     "text": [
      "  1%|▏         | 1/72 [00:00<00:08,  8.64it/s]"
     ]
    },
    {
     "name": "stdout",
     "output_type": "stream",
     "text": [
      "----------------------Loading...---------------------\n"
     ]
    },
    {
     "name": "stderr",
     "output_type": "stream",
     "text": [
      "100%|██████████| 72/72 [00:08<00:00,  8.35it/s]\n"
     ]
    },
    {
     "name": "stdout",
     "output_type": "stream",
     "text": [
      "The min frequency is 5.0Hz\n",
      "The max frequency is 20.0Hz\n",
      "The cluster number is 6\n",
      "Time cost 11.208673238754272 s\n",
      "------------------------Done!------------------------\n"
     ]
    }
   ],
   "source": [
    "print('Start of the program :)')\n",
    "# Load HV\n",
    "root = tk.Tk()\n",
    "root.withdraw()\n",
    "Folderpath = filedialog.askdirectory()\n",
    "print('Folderpath:', Folderpath)\n",
    "root.destroy()\n",
    "# find the .hv data\n",
    "fs = glob(Folderpath + '/*.hv')\n",
    "# file type ifo in the selected file path\n",
    "all_files = os.listdir(Folderpath)\n",
    "type_dict = dict()\n",
    "for each_file in all_files:\n",
    "    if os.path.isdir(each_file):\n",
    "        type_dict.setdefault('Folders', 0)\n",
    "        type_dict['Folders'] += 1\n",
    "    else:\n",
    "        ext = os.path.splitext(each_file)[1]\n",
    "        type_dict.setdefault(ext, 0)\n",
    "        type_dict[ext] += 1\n",
    "for each_type in type_dict.keys():\n",
    "    print('FolderType: This folder has a total of [%s] file %d ' % (each_type, type_dict[each_type]))\n",
    "# define the range of Freq\n",
    "freq = np.geomspace(0.1, 100.1, 400)\n",
    "# define the min and max Freq you wanted\n",
    "min_freq = float(input('Min freq from 1Hz to 100Hz: \\n'))\n",
    "max_freq = float(input('Max freq from 1Hz to 100Hz: \\n'))\n",
    "# read the HVSR data\n",
    "start_time_01 = time.time()\n",
    "sel = (freq >= min_freq) & (freq <= max_freq)\n",
    "freq_sel = freq[sel]\n",
    "data = []\n",
    "data_sel = np.zeros(shape=(len(fs), len(freq_sel)))\n",
    "data2 = np.zeros(shape=(len(fs), len(freq)))\n",
    "print('----------------------Loading...---------------------')\n",
    "for i in trange(len(fs)):\n",
    "    time.sleep(0.1)\n",
    "    # here skiprows=9 is the headers of .hv data\n",
    "    data.append(pd.read_table(filepath_or_buffer=fs[i], sep='\\t', skiprows=9, names=['Freq', 'Aver', 'max', 'min']))\n",
    "    data2[i] = np.interp(freq, data[i].Freq, data[i].Aver)  # interpolation for the same data dimension\n",
    "    data_sel[i] = data2[i][sel]\n",
    "# change numpy array to pandas dataframe\n",
    "data2 = pd.DataFrame(data2).T\n",
    "# get the name of dataframe.columns\n",
    "hvname = [f'hv{n}' for n in range(len(fs))]\n",
    "# change the dataframe.columns name to what you create\n",
    "data2.columns = hvname\n",
    "# change numpy array to pandas dataframe\n",
    "freq = pd.DataFrame(freq)\n",
    "# change the dataframe.columns name to what you want\n",
    "freq.columns = ['freq']\n",
    "# get the .hv file name\n",
    "names = []\n",
    "for i in range(len(fs)):\n",
    "    names.append(Path(fs[i]).stem)\n",
    "# define the number which you want to sort\n",
    "n_clusters = int(input('Please input the number of clusters: from 1 to ' + str(len(fs)) + '\\n'))\n",
    "centroid, _ = kmeans(data_sel, n_clusters)\n",
    "result1, _ = vq(data_sel, centroid)\n",
    "result1 = result1.tolist()\n",
    "# print(result1)\n",
    "print('The min frequency is ' + str(min_freq) + 'Hz')\n",
    "print('The max frequency is ' + str(max_freq) + 'Hz')\n",
    "print('The cluster number is ' + str(n_clusters))\n",
    "end_time_01 = time.time()\n",
    "print('Time cost',end_time_01-start_time_01,'s')\n",
    "print('------------------------Done!------------------------')"
   ],
   "metadata": {
    "collapsed": false,
    "pycharm": {
     "name": "#%% read data and set the parameter\n"
    }
   }
  },
  {
   "cell_type": "code",
   "execution_count": 8,
   "outputs": [
    {
     "name": "stdout",
     "output_type": "stream",
     "text": [
      "Group 1 \n",
      "B0-125.B.3\n",
      "B0-125.E.2\n",
      "B0-127.5.E.1\n",
      "B0-127.5.E.2\n",
      "B2.5-125.B.3\n",
      "B2.5-125.E.2\n",
      "B2.5-127.5.E.1\n",
      "B2.5-127.5.E.2\n",
      "Group 2 \n",
      "B0-135.E.2\n",
      "B0-137.5.E.2\n",
      "B2.5-135.E.2\n",
      "B2.5-137.5.E.2\n",
      "Group 3 \n",
      "B0-130.B.3\n",
      "B0-130.E.2\n",
      "B0-132.5.E.1\n",
      "B0-132.5.E.2\n",
      "B2.5-130.B.2\n",
      "B2.5-130.B.3\n",
      "B2.5-130.D.5\n",
      "B2.5-130.E.2\n",
      "B2.5-132.5.D.1\n",
      "B2.5-132.5.D.5\n",
      "B2.5-132.5.E.1\n",
      "B2.5-132.5.E.2\n",
      "B5-130.B.1\n",
      "B5-130.B.2\n",
      "B5-130.B.5\n",
      "B5-130.D.5\n",
      "B5-132.5.B.5\n",
      "B5-132.5.D.1\n",
      "B5-132.5.D.5\n",
      "B5-132.5.E.3\n",
      "Group 4 \n",
      "B2.5-125.B.2\n",
      "B2.5-125.D.5\n",
      "B2.5-127.5.D.1\n",
      "B2.5-127.5.D.5\n",
      "B5-125.B.1\n",
      "B5-125.B.2\n",
      "B5-125.B.5\n",
      "B5-125.D.5\n",
      "B5-127.5.B.5\n",
      "B5-127.5.D.1\n",
      "B5-127.5.D.5\n",
      "B5-127.5.E.3\n",
      "Group 5 \n",
      "B0-135.B.3\n",
      "B0-137.5.E.1\n",
      "B2.5-135.B.2\n",
      "B2.5-135.B.3\n",
      "B2.5-135.D.5\n",
      "B2.5-137.5.D.1\n",
      "B2.5-137.5.D.5\n",
      "B2.5-137.5.E.1\n",
      "B5-135.B.1\n",
      "B5-135.B.2\n",
      "B5-135.B.5\n",
      "B5-135.D.5\n",
      "B5-137.5.B.5\n",
      "B5-137.5.D.1\n",
      "B5-137.5.D.5\n",
      "B5-137.5.E.3\n",
      "Group 6 \n",
      "B0-125.B.4\n",
      "B0-125.D.4\n",
      "B0-127.5.D.3\n",
      "B0-127.5.D.4\n",
      "B0-130.B.4\n",
      "B0-130.D.4\n",
      "B0-132.5.D.3\n",
      "B0-132.5.D.4\n",
      "B0-135.B.4\n",
      "B0-135.D.4\n",
      "B0-137.5.D.3\n",
      "B0-137.5.D.4\n",
      "Time cost 0.4857518672943115 s\n",
      "------------------------Done!------------------------\n"
     ]
    }
   ],
   "source": [
    "# define the plotly subplot\n",
    "start_time_02 = time.time()\n",
    "pio.templates.default = \"plotly_white\"  # set the plotly templates\n",
    "if n_clusters == 1:\n",
    "    fig = make_subplots(rows=1, cols=1, print_grid=False)\n",
    "    count = 0\n",
    "    for k in range(len(fs)):\n",
    "        count = count + 1\n",
    "        fig.add_trace(go.Scatter(x=freq['freq'], y=data2[hvname[k]], name=names[k]),\n",
    "                      row=1, col=1)\n",
    "elif n_clusters == 2:\n",
    "    fig = make_subplots(rows=1, cols=2, print_grid=False)\n",
    "    count = 0\n",
    "    for k in range(len(fs)):\n",
    "        count = count + 1\n",
    "        if result1[k] == 0:\n",
    "            fig.add_trace(go.Scatter(x=freq['freq'], y=data2[hvname[k]], name=names[k]),\n",
    "                          row=1, col=1)\n",
    "        else:\n",
    "            fig.add_trace(go.Scatter(x=freq['freq'], y=data2[hvname[k]], name=names[k]),\n",
    "                          row=1, col=2)\n",
    "elif n_clusters == 3:\n",
    "    fig = make_subplots(rows=1, cols=3, print_grid=False)\n",
    "    count = 0\n",
    "    for k in range(len(fs)):\n",
    "        count = count + 1\n",
    "        if result1[k] == 0:\n",
    "            fig.add_trace(go.Scatter(x=freq['freq'], y=data2[hvname[k]], name=names[k]),\n",
    "                          row=1, col=1)\n",
    "        elif result1[k] == 1:\n",
    "            fig.add_trace(go.Scatter(x=freq['freq'], y=data2[hvname[k]], name=names[k]),\n",
    "                          row=1, col=2)\n",
    "        else:\n",
    "            fig.add_trace(go.Scatter(x=freq['freq'], y=data2[hvname[k]], name=names[k]),\n",
    "                          row=1, col=3)\n",
    "else:\n",
    "    numRow = 2\n",
    "    numCol = int(np.ceil(n_clusters / 2))\n",
    "    fig = make_subplots(rows=numRow, cols=numCol, print_grid=False)\n",
    "    # plot the result of classification\n",
    "    for z in range(n_clusters):  # z is the number of classification\n",
    "        count = 0\n",
    "        for k in range(len(fs)):\n",
    "            if result1[k] == z:\n",
    "                count = count + 1\n",
    "                if z < numCol:\n",
    "                    fig.add_trace(go.Scatter(x=freq['freq'], y=data2[hvname[k]], name=names[k]),\n",
    "                                  row=1, col=z+1)\n",
    "                else:\n",
    "                    fig.add_trace(go.Scatter(x=freq['freq'], y=data2[hvname[k]], name=names[k]),\n",
    "                                  row=2, col=z+1-numCol)\n",
    "# update the plot frame\n",
    "fig.update_xaxes(type=\"log\")\n",
    "fig.update_xaxes(range=[0.3, 2])\n",
    "fig.update_yaxes(range=[0.0, 7.0], tick0=0.0, dtick=1.0)\n",
    "fig.update_xaxes(title_text=\"Frequency (Hz)\")\n",
    "fig.update_yaxes(title_text=\"Amplitude\")\n",
    "fig.update_layout(title='HV cluster', showlegend=False)\n",
    "# print the Classification result of HVSR\n",
    "for z in range(n_clusters):\n",
    "    print('Group {:.0f} '.format(z + 1))\n",
    "    for i in range(len(fs)):\n",
    "        if result1[i] == z:\n",
    "            print(names[i])\n",
    "# save the .html file\n",
    "htmlFileName = Folderpath.split(\"/\")[-1] + '_HV_Cluster' + '.html'\n",
    "plotly.offline.plot(fig, filename=Folderpath + '/' + htmlFileName)\n",
    "end_time_02 = time.time()\n",
    "print('Time cost',end_time_02-start_time_02,'s')\n",
    "print('------------------------Done!------------------------')\n"
   ],
   "metadata": {
    "collapsed": false,
    "pycharm": {
     "name": "#%% plot the result with plotly\n"
    }
   }
  }
 ],
 "metadata": {
  "kernelspec": {
   "name": "pycharm-d876540c",
   "language": "python",
   "display_name": "PyCharm (DataProcess)"
  },
  "language_info": {
   "codemirror_mode": {
    "name": "ipython",
    "version": 2
   },
   "file_extension": ".py",
   "mimetype": "text/x-python",
   "name": "python",
   "nbconvert_exporter": "python",
   "pygments_lexer": "ipython2",
   "version": "2.7.6"
  }
 },
 "nbformat": 4,
 "nbformat_minor": 0
}