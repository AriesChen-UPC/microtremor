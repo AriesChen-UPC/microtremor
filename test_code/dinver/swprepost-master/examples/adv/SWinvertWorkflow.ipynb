{
 "cells": [
  {
   "cell_type": "markdown",
   "metadata": {},
   "source": [
    "## License Information\n",
    "---\n",
    "\n",
    "This file is distributed as part of `swprepost`, a Python package for surface wave inversion pre- and post-processing.\n",
    "\n",
    "    Copyright (C) 2019-2020 Joseph P. Vantassel (jvantassel@utexas.edu)\n",
    "\n",
    "    This program is free software: you can redistribute it and/or modify\n",
    "    it under the terms of the GNU General Public License as published by\n",
    "    the Free Software Foundation, either version 3 of the License, or\n",
    "    (at your option) any later version.\n",
    "\n",
    "    This program is distributed in the hope that it will be useful,\n",
    "    but WITHOUT ANY WARRANTY; without even the implied warranty of\n",
    "    MERCHANTABILITY or FITNESS FOR A PARTICULAR PURPOSE.  See the\n",
    "    GNU General Public License for more details.\n",
    "\n",
    "    You should have received a copy of the GNU General Public License\n",
    "    along with this program.  If not, see <https: //www.gnu.org/licenses/>.\n",
    "    \n",
    "## About SWinvert, `swprepost`, `swbatch`, and this notebook\n",
    "---\n",
    "\n",
    "[SWinvert](https://doi.org/10.1093/gji/ggaa426) is a workflow for performing rigorous 1D surface wave inversion (Vantassel and Cox, 2020).\n",
    "[swprepost](https://github.com/jpvantassel/swprepost/) is a Python package for performing surface wave inversion pre- and post-processing (Vantassel, 2020).\n",
    "[swbatch](https://github.com/jpvantassel/swbatch) is an application on the [DesignSafe-CI](https://www.designsafe-ci.org/) (Vantassel et al., 2020) which allows user to perform batch-style surface wave inversions on the high performance cluster Stampede2 directly from Jupyter (recommended, code provided below) or through an easy to use web interface.\n",
    "This notebook is __an__ example of a workflow that can be built using the concepts from SWinvert and the tools `swprepost` and `swbatch`.\n",
    "The SWinvert workflow, `swprepost`, `swbatch`, and this notebook were developed by Joseph P. Vantassel, under the supervision of Brady R. Cox at The University of Texas at Austin. If you use this notebook in your research we ask that you please cite the following:\n",
    "\n",
    "> Vantassel, J.P., Cox, B.R., (2020). SWinvert: A workflow for performing rigorous 1D surface wave inversions. Geophys. J. Int. (Accepted) https://doi.org/10.1093/gji/ggaa426\n",
    "\n",
    "> Vantassel, J., (2020). jpvantassel/swprepost: latest (Concept). Zenodo. https://doi.org/10.5281/zenodo.3839998\n",
    "\n",
    "> Vantassel, J., Gurram, H., Cox, B., (2020). jpvantassel/swbatch: latest (Concept). Zenodo. https://doi.org/10.5281/zenodo.3840546\n",
    "\n",
    "_Note: For software, version specific citations should be preferred to\n",
    "general concept citations, such as that listed above. To generate a version\n",
    "specific citation for `swprepost` and `swbatch`, please use the citation tool\n",
    "on the `swprepost` [archive](https://doi.org/10.5281/zenodo.3839998). and the\n",
    "`swbatch` [archive](https://doi.org/10.5281/zenodo.3840545)._\n",
    "\n",
    "\n",
    "## Using this notebook\n",
    "\n",
    "This notebook has four main parts:\n",
    "\n",
    "1. [Defining the inversion target](#Defining-the-Inversion-Target)\n",
    "2. [Selecting the inversion parameterizations](#Selecting-the-Inversion-Parameterizations)\n",
    "3. [Running the inversion](#Running-the-Inversion)\n",
    "4. [Post-processing the inversion results](#Post-processing-the-Inversion-Results)\n",
    "\n",
    "\n",
    "### An important note\n",
    "\n",
    "__This notebook is intended as a tool to expedite surface wave inversion, however it is of paramount importance that the user have some working knowledge of surface wave inversion to understand what they are doing. We strongly recommend that this notebook not be used as \"black-box\" software. At a minimum we recommend the user to read Vantassel and Cox (2020), citation above, to familiarize themselves with the basics of surface wave inversion and the specific recommendations presented therein__.\n",
    "\n",
    "All the best \n",
    "\n",
    "\\- Joe"
   ]
  },
  {
   "cell_type": "markdown",
   "metadata": {},
   "source": [
    "## Import `swprepost`\n",
    "\n",
    "This will install `swprepost` if you have not done so already."
   ]
  },
  {
   "cell_type": "code",
   "execution_count": 1,
   "metadata": {},
   "outputs": [
    {
     "name": "stdout",
     "output_type": "stream",
     "text": [
      "Looking in indexes: https://pypi.tuna.tsinghua.edu.cn/simple\n",
      "Requirement already satisfied: swprepost in e:\\programdata\\anaconda3\\lib\\site-packages (0.3.1)\n",
      "Requirement already satisfied: numpy in e:\\programdata\\anaconda3\\lib\\site-packages (from swprepost) (1.19.2)\n",
      "Requirement already satisfied: matplotlib in e:\\programdata\\anaconda3\\lib\\site-packages (from swprepost) (3.3.2)\n",
      "Requirement already satisfied: scipy in e:\\programdata\\anaconda3\\lib\\site-packages (from swprepost) (1.5.2)\n",
      "Requirement already satisfied: pyparsing!=2.0.4,!=2.1.2,!=2.1.6,>=2.0.3 in e:\\programdata\\anaconda3\\lib\\site-packages (from matplotlib->swprepost) (2.4.7)\n",
      "Requirement already satisfied: kiwisolver>=1.0.1 in e:\\programdata\\anaconda3\\lib\\site-packages (from matplotlib->swprepost) (1.3.0)\n",
      "Requirement already satisfied: python-dateutil>=2.1 in e:\\programdata\\anaconda3\\lib\\site-packages (from matplotlib->swprepost) (2.8.1)\n",
      "Requirement already satisfied: pillow>=6.2.0 in e:\\programdata\\anaconda3\\lib\\site-packages (from matplotlib->swprepost) (8.0.1)\n",
      "Requirement already satisfied: certifi>=2020.06.20 in e:\\programdata\\anaconda3\\lib\\site-packages (from matplotlib->swprepost) (2020.12.5)\n",
      "Requirement already satisfied: cycler>=0.10 in e:\\programdata\\anaconda3\\lib\\site-packages (from matplotlib->swprepost) (0.10.0)\n",
      "Requirement already satisfied: six in e:\\programdata\\anaconda3\\lib\\site-packages (from cycler>=0.10->matplotlib->swprepost) (1.15.0)\n"
     ]
    }
   ],
   "source": [
    "from tensorboard.notebook import display\n",
    "!pip install --user swprepost"
   ]
  },
  {
   "cell_type": "markdown",
   "metadata": {},
   "source": [
    "## Imports and Function Definitions"
   ]
  },
  {
   "cell_type": "code",
   "execution_count": 2,
   "metadata": {},
   "outputs": [
    {
     "name": "stdout",
     "output_type": "stream",
     "text": [
      "Imports completed, please continue.\n"
     ]
    }
   ],
   "source": [
    "import glob, re, os\n",
    "\n",
    "import numpy as np\n",
    "import matplotlib.pyplot as plt\n",
    "import ipywidgets as widgets\n",
    "\n",
    "import swprepost\n",
    "\n",
    "def plotter(tar):\n",
    "    fig, axs = plt.subplots(nrows=1, ncols=2, sharey=True, figsize=(6,3), dpi=150)\n",
    "    tar.plot(x=\"frequency\", y=\"velocity\", ax=axs[0])\n",
    "    tar.plot(x=\"wavelength\", y=\"velocity\", ax=axs[1])\n",
    "    axs[1].set_ylabel(\"\")\n",
    "    axs[1].legend()\n",
    "    \n",
    "def on_button_click(*args, **kwargs):\n",
    "    global tar\n",
    "    click.clear_output()\n",
    "    button.description = 'Plotting'\n",
    "    with click:\n",
    "        if tar.is_no_velstd:\n",
    "            tar.setcov(ecov.value)\n",
    "        else:\n",
    "            tar.setmincov(ecov.value)\n",
    "        plotter(tar)\n",
    "        button.description = 'Done'\n",
    "\n",
    "def change_options(*args):\n",
    "    global tar\n",
    "    tar=swprepost.Target.from_csv(fname.value)\n",
    "    if tar.is_no_velstd: \n",
    "        ecov.description = 'COV:'\n",
    "        ecov.options = {'COV=0.05':0.05,'COV=0.075':0.075,'COV=0.1':0.1}\n",
    "    else: \n",
    "        ecov.description = 'Min COV:'\n",
    "        ecov.options = {'Provided':0, 'COV=0.05':0.05,'COV=0.075':0.075,'COV=0.1':0.1}\n",
    "print(\"Imports completed, please continue.\")"
   ]
  },
  {
   "cell_type": "markdown",
   "metadata": {},
   "source": [
    "## Defining the Inversion Target"
   ]
  },
  {
   "cell_type": "markdown",
   "metadata": {},
   "source": [
    "### Importing the Experimental Dispersion Data\n",
    "\n",
    "1. Run the cell.\n",
    "2. Use the left dropdown menu to select the file containing your experimental disperison data.\n",
    "3. If no uncertainty is provided use the right dropdown menu to select an appropriate coefficient of variation (COV).\n",
    "4. Press `Load` when ready.\n",
    "5. Review the figure to ensure your data has loaded correctly, then proceed to the next cell.\n",
    "\n",
    "[Back to top](#License-Information)"
   ]
  },
  {
   "cell_type": "code",
   "execution_count": 3,
   "metadata": {},
   "outputs": [
    {
     "ename": "TypeError",
     "evalue": "%d format: a number is required, not Output",
     "output_type": "error",
     "traceback": [
      "\u001B[1;31m---------------------------------------------------------------------------\u001B[0m",
      "\u001B[1;31mTypeError\u001B[0m                                 Traceback (most recent call last)",
      "\u001B[1;32m<ipython-input-3-6853d2f5a441>\u001B[0m in \u001B[0;36m<module>\u001B[1;34m\u001B[0m\n\u001B[0;32m      5\u001B[0m \u001B[0mecov\u001B[0m\u001B[1;33m=\u001B[0m\u001B[0mwidgets\u001B[0m\u001B[1;33m.\u001B[0m\u001B[0mDropdown\u001B[0m\u001B[1;33m(\u001B[0m\u001B[0moptions\u001B[0m\u001B[1;33m=\u001B[0m\u001B[1;33m{\u001B[0m\u001B[1;34m' '\u001B[0m\u001B[1;33m:\u001B[0m\u001B[1;32mNone\u001B[0m\u001B[1;33m}\u001B[0m\u001B[1;33m,\u001B[0m \u001B[0mdescription\u001B[0m\u001B[1;33m=\u001B[0m\u001B[1;34m'COV'\u001B[0m\u001B[1;33m)\u001B[0m\u001B[1;33m\u001B[0m\u001B[1;33m\u001B[0m\u001B[0m\n\u001B[0;32m      6\u001B[0m \u001B[0mbutton\u001B[0m\u001B[1;33m=\u001B[0m\u001B[0mwidgets\u001B[0m\u001B[1;33m.\u001B[0m\u001B[0mButton\u001B[0m\u001B[1;33m(\u001B[0m\u001B[0mdescription\u001B[0m\u001B[1;33m=\u001B[0m\u001B[1;34m'Load'\u001B[0m\u001B[1;33m)\u001B[0m\u001B[1;33m\u001B[0m\u001B[1;33m\u001B[0m\u001B[0m\n\u001B[1;32m----> 7\u001B[1;33m \u001B[0mfname\u001B[0m\u001B[1;33m.\u001B[0m\u001B[0mobserve\u001B[0m\u001B[1;33m(\u001B[0m\u001B[0mchange_options\u001B[0m\u001B[1;33m,\u001B[0m\u001B[0mnames\u001B[0m\u001B[1;33m=\u001B[0m\u001B[1;34m'value'\u001B[0m\u001B[1;33m)\u001B[0m\u001B[1;33m;\u001B[0m \u001B[0mdisplay\u001B[0m\u001B[1;33m(\u001B[0m\u001B[0minit\u001B[0m\u001B[1;33m)\u001B[0m\u001B[1;33m\u001B[0m\u001B[1;33m\u001B[0m\u001B[0m\n\u001B[0m\u001B[0;32m      8\u001B[0m \u001B[0mui\u001B[0m\u001B[1;33m=\u001B[0m\u001B[0mwidgets\u001B[0m\u001B[1;33m.\u001B[0m\u001B[0mHBox\u001B[0m\u001B[1;33m(\u001B[0m\u001B[0mchildren\u001B[0m\u001B[1;33m=\u001B[0m\u001B[1;33m[\u001B[0m\u001B[0mfname\u001B[0m\u001B[1;33m,\u001B[0m \u001B[0mecov\u001B[0m\u001B[1;33m,\u001B[0m \u001B[0mbutton\u001B[0m\u001B[1;33m]\u001B[0m\u001B[1;33m)\u001B[0m\u001B[1;33m\u001B[0m\u001B[1;33m\u001B[0m\u001B[0m\n\u001B[0;32m      9\u001B[0m \u001B[0mclick\u001B[0m \u001B[1;33m=\u001B[0m \u001B[0mwidgets\u001B[0m\u001B[1;33m.\u001B[0m\u001B[0mOutput\u001B[0m\u001B[1;33m(\u001B[0m\u001B[1;33m)\u001B[0m\u001B[1;33m;\u001B[0m \u001B[0mbutton\u001B[0m\u001B[1;33m.\u001B[0m\u001B[0mon_click\u001B[0m\u001B[1;33m(\u001B[0m\u001B[0mon_button_click\u001B[0m\u001B[1;33m)\u001B[0m\u001B[1;33m;\u001B[0m \u001B[0mdisplay\u001B[0m\u001B[1;33m(\u001B[0m\u001B[0mui\u001B[0m\u001B[1;33m,\u001B[0m\u001B[0mclick\u001B[0m\u001B[1;33m)\u001B[0m\u001B[1;33m\u001B[0m\u001B[1;33m\u001B[0m\u001B[0m\n",
      "\u001B[1;32mE:\\ProgramData\\Anaconda3\\lib\\site-packages\\tensorboard\\notebook.py\u001B[0m in \u001B[0;36mdisplay\u001B[1;34m(port, height)\u001B[0m\n\u001B[0;32m    266\u001B[0m         \u001B[1;33m(\u001B[0m\u001B[0mcurrently\u001B[0m \u001B[1;36m800\u001B[0m\u001B[1;33m)\u001B[0m\u001B[1;33m.\u001B[0m\u001B[1;33m\u001B[0m\u001B[1;33m\u001B[0m\u001B[0m\n\u001B[0;32m    267\u001B[0m     \"\"\"\n\u001B[1;32m--> 268\u001B[1;33m     \u001B[0m_display\u001B[0m\u001B[1;33m(\u001B[0m\u001B[0mport\u001B[0m\u001B[1;33m=\u001B[0m\u001B[0mport\u001B[0m\u001B[1;33m,\u001B[0m \u001B[0mheight\u001B[0m\u001B[1;33m=\u001B[0m\u001B[0mheight\u001B[0m\u001B[1;33m,\u001B[0m \u001B[0mprint_message\u001B[0m\u001B[1;33m=\u001B[0m\u001B[1;32mTrue\u001B[0m\u001B[1;33m,\u001B[0m \u001B[0mdisplay_handle\u001B[0m\u001B[1;33m=\u001B[0m\u001B[1;32mNone\u001B[0m\u001B[1;33m)\u001B[0m\u001B[1;33m\u001B[0m\u001B[1;33m\u001B[0m\u001B[0m\n\u001B[0m\u001B[0;32m    269\u001B[0m \u001B[1;33m\u001B[0m\u001B[0m\n\u001B[0;32m    270\u001B[0m \u001B[1;33m\u001B[0m\u001B[0m\n",
      "\u001B[1;32mE:\\ProgramData\\Anaconda3\\lib\\site-packages\\tensorboard\\notebook.py\u001B[0m in \u001B[0;36m_display\u001B[1;34m(port, height, print_message, display_handle)\u001B[0m\n\u001B[0;32m    318\u001B[0m         \u001B[0m_CONTEXT_NONE\u001B[0m\u001B[1;33m:\u001B[0m \u001B[0m_display_cli\u001B[0m\u001B[1;33m,\u001B[0m\u001B[1;33m\u001B[0m\u001B[1;33m\u001B[0m\u001B[0m\n\u001B[0;32m    319\u001B[0m     }[_get_context()]\n\u001B[1;32m--> 320\u001B[1;33m     \u001B[1;32mreturn\u001B[0m \u001B[0mfn\u001B[0m\u001B[1;33m(\u001B[0m\u001B[0mport\u001B[0m\u001B[1;33m=\u001B[0m\u001B[0mport\u001B[0m\u001B[1;33m,\u001B[0m \u001B[0mheight\u001B[0m\u001B[1;33m=\u001B[0m\u001B[0mheight\u001B[0m\u001B[1;33m,\u001B[0m \u001B[0mdisplay_handle\u001B[0m\u001B[1;33m=\u001B[0m\u001B[0mdisplay_handle\u001B[0m\u001B[1;33m)\u001B[0m\u001B[1;33m\u001B[0m\u001B[1;33m\u001B[0m\u001B[0m\n\u001B[0m\u001B[0;32m    321\u001B[0m \u001B[1;33m\u001B[0m\u001B[0m\n\u001B[0;32m    322\u001B[0m \u001B[1;33m\u001B[0m\u001B[0m\n",
      "\u001B[1;32mE:\\ProgramData\\Anaconda3\\lib\\site-packages\\tensorboard\\notebook.py\u001B[0m in \u001B[0;36m_display_ipython\u001B[1;34m(port, height, display_handle)\u001B[0m\n\u001B[0;32m    405\u001B[0m             \u001B[1;33m(\u001B[0m\u001B[1;34m\"%JSON_ID%\"\u001B[0m\u001B[1;33m,\u001B[0m \u001B[0mjson\u001B[0m\u001B[1;33m.\u001B[0m\u001B[0mdumps\u001B[0m\u001B[1;33m(\u001B[0m\u001B[0mframe_id\u001B[0m\u001B[1;33m)\u001B[0m\u001B[1;33m)\u001B[0m\u001B[1;33m,\u001B[0m\u001B[1;33m\u001B[0m\u001B[1;33m\u001B[0m\u001B[0m\n\u001B[0;32m    406\u001B[0m             \u001B[1;33m(\u001B[0m\u001B[1;34m\"%HEIGHT%\"\u001B[0m\u001B[1;33m,\u001B[0m \u001B[1;34m\"%d\"\u001B[0m \u001B[1;33m%\u001B[0m \u001B[0mheight\u001B[0m\u001B[1;33m)\u001B[0m\u001B[1;33m,\u001B[0m\u001B[1;33m\u001B[0m\u001B[1;33m\u001B[0m\u001B[0m\n\u001B[1;32m--> 407\u001B[1;33m             \u001B[1;33m(\u001B[0m\u001B[1;34m\"%PORT%\"\u001B[0m\u001B[1;33m,\u001B[0m \u001B[1;34m\"%d\"\u001B[0m \u001B[1;33m%\u001B[0m \u001B[0mport\u001B[0m\u001B[1;33m)\u001B[0m\u001B[1;33m,\u001B[0m\u001B[1;33m\u001B[0m\u001B[1;33m\u001B[0m\u001B[0m\n\u001B[0m\u001B[0;32m    408\u001B[0m             \u001B[1;33m(\u001B[0m\u001B[1;34m\"%URL%\"\u001B[0m\u001B[1;33m,\u001B[0m \u001B[0mjson\u001B[0m\u001B[1;33m.\u001B[0m\u001B[0mdumps\u001B[0m\u001B[1;33m(\u001B[0m\u001B[1;34m\"/\"\u001B[0m\u001B[1;33m)\u001B[0m\u001B[1;33m)\u001B[0m\u001B[1;33m,\u001B[0m\u001B[1;33m\u001B[0m\u001B[1;33m\u001B[0m\u001B[0m\n\u001B[0;32m    409\u001B[0m         ]\n",
      "\u001B[1;31mTypeError\u001B[0m: %d format: a number is required, not Output"
     ]
    }
   ],
   "source": [
    "csvs = glob.glob('*.csv')\n",
    "init = widgets.Output()\n",
    "fname = widgets.Dropdown(options=['Select Experimental Dispersion Data File'] + csvs,\n",
    "                        description='File Name:')\n",
    "ecov=widgets.Dropdown(options={' ':None}, description='COV')\n",
    "button=widgets.Button(description='Load')\n",
    "fname.observe(change_options,names='value'); display(init)\n",
    "ui=widgets.HBox(children=[fname, ecov, button])\n",
    "click = widgets.Output(); button.on_click(on_button_click); display(ui,click)"
   ]
  },
  {
   "cell_type": "markdown",
   "metadata": {},
   "source": [
    "### Resampling the Experimental Disperison\n",
    "\n",
    "1. Select the `domain` in which you wish to resample. _wavelength is recommended._\n",
    "2. Select the `resample_type` either log or linear. _log is recommended._\n",
    "3. Select the minimum (`pmin`), maximum (`pmax`), and number of points (`pn`) after resampling. Note that `pmin` and `pmax` are in terms of the selected `domain` (i.e., either frequency or wavelength). _20-30 points are recommended._\n",
    "4. Select the `target_name` and `version` of Geopsy used to define the output `.target` file.\n",
    "5. Review the figure to ensure your data has been resampled correctly, then proceed to the next cell.\n",
    "\n",
    "[Back to top](#License-Information)"
   ]
  },
  {
   "cell_type": "code",
   "execution_count": null,
   "metadata": {},
   "outputs": [],
   "source": [
    "domain = 'wavelength'       # 'frequency' or 'wavelength'\n",
    "resample_type = 'log'       # 'log' or 'linear'\n",
    "pmin = 2                    # Minimum value after resampling in units of domain\n",
    "pmax = 150                  # Maximum value after resampling in units of domain\n",
    "pn = 25                     # Number of samples\n",
    "target_name = \"Tar5\"        # Name of target file (without the .target suffix)\n",
    "version = \"2\"               # Major version of Geopsy \"2\" or \"3\"\n",
    "\n",
    "# Resample\n",
    "tar.easy_resample(pmin=pmin, pmax=pmax, pn=pn, res_type=resample_type, domain=domain, inplace=True)\n",
    "\n",
    "# Save to Disk\n",
    "if os.path.isdir(\"0_targets/\")==False:\n",
    "    os.mkdir(\"0_targets/\")\n",
    "tar.to_target(f\"0_targets/{target_name}\", version=version)\n",
    "plotter(tar)"
   ]
  },
  {
   "cell_type": "markdown",
   "metadata": {},
   "source": [
    "## Selecting the Inversion Parameterizations\n",
    "\n",
    "1. Enter upper and lower limits for `vp`, `vs`, `Poisson's ratio`, and `mass density`. \n",
    "2. Select the `Layering Ratio` and/or `Layering by Number` parameterizations you would like to consider, use `ctrl+click` to select multiple. Note that this notebook assumes `vp` and `vs` layering are equal to the selected layers and that `vp` is linked to the `vs` parameterization. Only a single layer is assumed for `Poisson's ratio` and `mass density`.\n",
    "3. Review your selections, then proceed to and run the next cell.\n",
    " \n",
    "__Be cautious when making your selections as they can strongly bias your inversion's final result.__\n",
    " \n",
    "[Back to top](#License-Information)"
   ]
  },
  {
   "cell_type": "code",
   "execution_count": null,
   "metadata": {},
   "outputs": [],
   "source": [
    "vpMin = widgets.FloatText(value=100, description=r'\\(V_{p,min} (m/s)\\)')\n",
    "vpMax = widgets.FloatText(value=2500, description=r'\\(V_{p,max} (m/s)\\)')\n",
    "vpRev = widgets.Checkbox(value=False, description='Allow Vp Decrease')\n",
    "\n",
    "vMin = widgets.FloatText(value=round(min(tar.velocity)*0.9,0), description=r'\\(V_{s,min} (m/s)\\)')\n",
    "vMax = widgets.FloatText(value=round(max(tar.velocity)*1.1,0), description=r'\\(V_{s,max} (m/s)\\)')\n",
    "vRev = widgets.Checkbox(value=False, description='Allow Vs Decrease')\n",
    "\n",
    "nuMin = widgets.FloatText(value=0.2, description=r'\\(\\nu_{min}\\)')\n",
    "nuMax = widgets.FloatText(value=0.5, description=r'\\(\\nu_{max}\\)')\n",
    "\n",
    "rhMin = widgets.FloatText(value=2000, description=r'\\(\\rho_{min} (kg/m^{3})\\)')\n",
    "rhMax = widgets.FloatText(value=2000, description=r'\\(\\rho_{max} (kg/m^{3})\\)')\n",
    "\n",
    "LRs = widgets.SelectMultiple(description='By Ratio', \n",
    "                             options=[('LR: 1.2',1.2), ('LR: 1.3',1.3), ('LR: 1.5',1.5), ('LR: 2.0',2.0), ('LR: 2.5',2.5),\n",
    "                                      ('LR: 3.0',3.0), ('LR: 3.5',3.5), ('LR: 5.0',5.0), ('LR: 6.0',6.0), ('LR: 7.0',7.0)],\n",
    "                             layout=widgets.Layout(height='200px'))\n",
    "LNs = widgets.SelectMultiple(description='By Number', \n",
    "                             options=[('LN: 3',3),('LN: 4',4),('LN: 5',5),\n",
    "                                      ('LN: 6',6),('LN: 7',7),('LN: 8',8),('LN: 9',9),\n",
    "                                      ('LN: 10',10), ('LN: 15',15), ('LN: 20',20),],\n",
    "                             layout=widgets.Layout(height='200px'))\n",
    "\n",
    "Vs = widgets.VBox([vMin, vMax, vRev])\n",
    "Vp = widgets.VBox([vpMin, vpMax, vpRev])\n",
    "Nu = widgets.VBox([nuMin, nuMax])\n",
    "Rh = widgets.VBox([rhMin, rhMax])\n",
    "ui_new = widgets.VBox([widgets.HBox([Vp, Nu]), widgets.HBox([Vs, Rh]), widgets.HBox([LRs, LNs])])\n",
    "display(ui_new)"
   ]
  },
  {
   "cell_type": "markdown",
   "metadata": {},
   "source": [
    "### Write Parameterizations to Disk\n",
    "\n",
    "[Back to top](#License-Information)"
   ]
  },
  {
   "cell_type": "code",
   "execution_count": null,
   "metadata": {},
   "outputs": [],
   "source": [
    "depth_factor = 3\n",
    "wmin, wmax = min(tar.wavelength), max(tar.wavelength)\n",
    "\n",
    "# Parameterize Mass Density\n",
    "if rhMin.value == rhMax.value:\n",
    "    rh = swprepost.Parameter.from_fx(rhMin.value)\n",
    "else:\n",
    "    rh = swprepost.Parameter.from_ln(wmin=wmin, wmax=wmax, nlayers=1, par_min=rhMin.value, par_max=rhMax.value, par_rev=False)\n",
    "    \n",
    "# Parameterize Poisson's Ratio\n",
    "if nuMin.value == nuMax.value:\n",
    "    raise ValueError(\"Do not fix Poisson's ratio\")\n",
    "else:\n",
    "    pr = swprepost.Parameter.from_ln(wmin=wmin, wmax=wmax, nlayers=1, par_min=nuMin.value, par_max=nuMax.value, par_rev=False)\n",
    "\n",
    "if os.path.isdir(\"1_parameters/\")==False:\n",
    "    os.mkdir(\"1_parameters/\")\n",
    "\n",
    "# Parameterize Vs using Layering by Number (LN)\n",
    "for ln in LNs.value:\n",
    "    vs = swprepost.Parameter.from_ln(wmin=wmin, wmax=wmax, nlayers=ln, par_min=vMin.value, par_max=vMax.value, par_rev=vRev.value, depth_factor=depth_factor)\n",
    "    vp = swprepost.Parameter.from_parameter_and_link(par_min=vpMin.value, par_max=vpMax.value, par_rev=vpRev.value, existing_parameter=vs, ptype=\"vs\")\n",
    "    par=swprepost.Parameterization(vp=vp, pr=pr, vs=vs, rh=rh)\n",
    "    par.to_param(f\"1_parameters/LN{ln}\", version=version)\n",
    "\n",
    "# Parameterize Vs using Layering Ratio (LR)\n",
    "for lr in LRs.value:\n",
    "    vs = swprepost.Parameter.from_lr(wmin=wmin, wmax=wmax, lr=lr, par_min=vMin.value, par_max=vMax.value, par_rev=vRev.value, depth_factor=depth_factor)\n",
    "    vp = swprepost.Parameter.from_parameter_and_link(par_min=vpMin.value, par_max=vpMax.value, par_rev=vpRev.value, existing_parameter=vs, ptype=\"vs\")\n",
    "    par=swprepost.Parameterization(vp=vp, pr=pr, vs=vs, rh=rh)\n",
    "    par.to_param(f\"1_parameters/LR{int(lr*10)}\", version=version)\n"
   ]
  },
  {
   "cell_type": "markdown",
   "metadata": {},
   "source": [
    "## Running the Inversion\n",
    "\n",
    "There are two ways to run your inversion(s):\n",
    "\n",
    "1. Locally using the `.target` and `.param` files which have been written in the previous sections. (Not Recommended for reasons provided below)\n",
    "2. Remotely using the DesignSafe-CI application `SWbatch`. (Recommended)\n",
    "\n",
    "See the appropriate section below for instructions.\n",
    "\n",
    "[Back to top](#License-Information)"
   ]
  },
  {
   "cell_type": "markdown",
   "metadata": {},
   "source": [
    "### If running locally\n",
    "\n",
    "_Note: Running locally is generally not recommended as the DesignSafe-CI application `SWbatch` has been specifically designed to integrate with the inputs generated by this notebook and generate the outputs expected from this notebook. However, as some will undoubtedly still want to run their inversion's locally instructions are provided below._\n",
    "\n",
    "1. Load the `.target` and `.param` files into Dinver. The `.target` and `.param` files are located in the `0_targets` and `1_parameters` directories created by this notebook.\n",
    "2. Setup the inversion's tuning parameters. Full details are provided in Vantassel and Cox (2020, however for completeness a brief summary is provided here. Number of independent runs (i.e., Ntrial) should be greater than 3, It*Ns > 50,000 (e.g., It=200, Ns=250), Nr ~= 100, Ns0>Nr (e.g., Ns0=10000).\n",
    "4. After completing your inversions export the desired number of ground models and dispersion curves to text format, using the Geopsy command line interface. Refer to the provided sample outputs in the `3_text` directory for the naming conventions assumed by this notebook.\n"
   ]
  },
  {
   "cell_type": "markdown",
   "metadata": {},
   "source": [
    "### If running remotely on DesignSafe-CI\n",
    "\n",
    "_Note: This functionality is only available to those running this notebook on DesignSafe-CI._ __It will not work locally.__\n",
    "\n",
    "1. Read through the cell below and select your inversion tuning parameters.\n",
    "2. When done, run the cell and inspect the output.\n",
    "3. If there is an issue edit the cell and run it again.\n",
    "4. Finally, run the following cell to launch your inversion on Stampede2. To monitor the progress of your inversion go to `Research Workbench>Workspace>Job Status`.\n"
   ]
  },
  {
   "cell_type": "code",
   "execution_count": null,
   "metadata": {},
   "outputs": [],
   "source": [
    "from agavepy.agave import Agave\n",
    "from agavepy.async import AgaveAsyncResponse\n",
    "ag=Agave.restore()\n",
    "\n",
    "# Inputs\n",
    "job_name = \"EX0\"      # Name of job (will appear in workspace)\n",
    "run_time = \"00:05:00\" # Runtime for simulation in (HH:MM:SS) format\n",
    "run_name = \"EX\"       # Run name (will appear as prefix to groundmodel and dispersioncurve files)\n",
    "n_trials = \"2\"        # Number of trials to perform, a minimum of 3 is recommended.\n",
    "It = \"20\"             # Number of iterations, a minimum of 200 is recommended.\n",
    "Ns = \"25\"             # Number of samples per iteration, a minimum of 250 is recommended.\n",
    "Nr = \"100\"            # Number of models to consider when resampling, 100 is recommended.\n",
    "Ns0 = \"100\"           # Number of initial samples, any value greater than Nr is recommended.\n",
    "\n",
    "# Outputs\n",
    "nprofile = \"3\"        # Number of ground models and dispersion curves to export\n",
    "# Frequency sampling of theoretical dispersion curves\n",
    "fmin = \"1\"            # Minimum frequency in Hz\n",
    "fmax = \"50\"           # Maximum frequency in Hz\n",
    "fnum = \"25\"           # Number of frequency samples\n",
    "\n",
    "full=%pwd\n",
    "usr=ag.profiles.get()[\"username\"]\n",
    "shrt=full[20::]\n",
    "job_description = {\n",
    "    \"name\":job_name,\n",
    "    \"appId\":\"swbatch-0.2.1\",\n",
    "    \"batchQueue\":\"development\",\n",
    "    \"nodeCount\":1,\n",
    "    \"maxRunTime\":run_time,\n",
    "    \"archive\":True,\n",
    "    \"inputs\":{\n",
    "        \"workingDirectory\":\"agave://designsafe.storage.default/\"+usr+shrt\n",
    "    },\n",
    "    \"parameters\":{\n",
    "      \"name\":run_name,\n",
    "      \"ntrial\":n_trials,\n",
    "      \"Ns0\":Ns0,\n",
    "      \"It\":It,\n",
    "      \"Ns\":Ns,\n",
    "      \"Nr\":Nr,\n",
    "      \"nprofile\":nprofile,\n",
    "      \"fnum\":fnum,\n",
    "      \"fmin\":fmin,\n",
    "      \"fmax\":fmax,\n",
    "    }\n",
    "}\n",
    "print(\"Confirm job information before continuing: \")\n",
    "display(job_description)"
   ]
  },
  {
   "cell_type": "code",
   "execution_count": null,
   "metadata": {},
   "outputs": [],
   "source": [
    "# Run cell to launch simulation\n",
    "job = ag.jobs.submit(body=job_description)\n",
    "asrp = AgaveAsyncResponse(ag, job)"
   ]
  },
  {
   "cell_type": "markdown",
   "metadata": {},
   "source": [
    "## Post-processing the Inversion Results"
   ]
  },
  {
   "cell_type": "markdown",
   "metadata": {},
   "source": [
    "### Importing the Data\n",
    "\n",
    "In order for the data to import correctly you must provide a relative or full path to the `3_text` directory.\n",
    "\n",
    "1. For those running this as a tutorial, no changes are necessary here.\n",
    "2. For those running this locally, it is recommended you follow the same directory structure provided in the example, and therefore no changes are necessary.\n",
    "3. For those running this remotely on DesignSafe-CI, you will need to replace the `full_path` variable in the cell below with the full path to the `3_text` directory containing your results. For your convenience, an incomplete `full_path` variable is provided below and commented out. To complete the path you will need to replace `<path_here>` with the actual path. The easiest way to find the full path to your data is by using the Job Status viewer by selecting `Research Workbench>Job Status>Your Desired Job>View` which will bring you to your job results. Alternatively, you can move the `3_text` directory form the job archive into the current directory, in which no changes to `full_path` are necessary.\n",
    "\n",
    "[Back to top](#License-Information)"
   ]
  },
  {
   "cell_type": "code",
   "execution_count": null,
   "metadata": {},
   "outputs": [],
   "source": [
    "ndc = 1             # Number of dispersion curves, may use \"all\"\n",
    "nrayleigh = 1       # Number of rayleigh modes, may use \"all\"\n",
    "nlove = 0           # Number of love modes, may use \"all\"\n",
    "ngm = 1             # Number of ground models, may use \"all\"\n",
    "\n",
    "full_path = \"./3_text/\"\n",
    "# full_path = \"/home/jupyter/MyData/archive/<path_here>/3_text/\"\n",
    "fnames = glob.glob(full_path + \"*_DC.txt\")\n",
    "fnames.sort(key=lambda x: int(re.findall(r\".*[\\\\/].*_.*[LF][TRN][IL]?(\\d+)_Tr\\d+_DC.txt$\",x)[0]))\n",
    "\n",
    "dcs, gms = {}, {}\n",
    "for fname in fnames:\n",
    "    filename, partype, parnumber, seed = re.findall(r\".*[\\\\/](.*_.*([LF][TRN][IL]?)(\\d+)_Tr(\\d+)_DC.txt)$\", fname)[0]\n",
    "    \n",
    "    # Divide LR by 10\n",
    "    if partype in ['LR']:\n",
    "        parnumber = str(int(parnumber)/10)\n",
    "    \n",
    "    # Save by parameterization\n",
    "    if partype not in dcs.keys():\n",
    "        dcs.update({partype:{}})\n",
    "        gms.update({partype:{}})\n",
    "        firstpass = True\n",
    "        \n",
    "    # Save by parameterization number        \n",
    "    if parnumber not in dcs[partype].keys():\n",
    "        dcs[partype].update({parnumber:{}})\n",
    "        gms[partype].update({parnumber:{}})\n",
    "        \n",
    "    # Save by trial\n",
    "    if os.path.getsize(fname) == 0:\n",
    "        print(f\"fname = {fname}, is empty skipping!\")\n",
    "    else:\n",
    "        dcs[partype][parnumber].update({seed:swprepost.DispersionSuite.from_geopsy(fname=fname, nsets=ndc, \n",
    "                                                                                   nrayleigh=nrayleigh, nlove=nlove)})\n",
    "        gms[partype][parnumber].update({seed:swprepost.GroundModelSuite.from_geopsy(fname=fname[:-6]+\"GM.txt\", nmodels=ngm)})\n",
    "    \n",
    "ncols = len(list(dcs.keys()))\n",
    "fig, axs = plt.subplots(nrows=1, ncols=ncols, sharey=True, figsize=(3*ncols,3), dpi=150)\n",
    "axs = [axs] if type(axs) != np.ndarray else axs\n",
    "bestseed = {}\n",
    "blabel = \"Each Trial\"\n",
    "fiter = True\n",
    "for ax, partype in zip(axs, dcs):\n",
    "    bestseed.update({partype:{}})\n",
    "    for parnumber in dcs[partype]:\n",
    "        seeds, misfits = [], []\n",
    "        for seed in dcs[partype][parnumber].keys():\n",
    "            seeds.append(seed)\n",
    "            misfits.append(dcs[partype][parnumber][seed].misfits[0])\n",
    "            ax.plot(parnumber, misfits[-1], 'bo', label=blabel, alpha=0.2)\n",
    "            blabel = None\n",
    "        bestseed[partype].update({parnumber:seeds[misfits.index(min(misfits))]})\n",
    "    if fiter:\n",
    "        fiter = False\n",
    "        ax.legend()\n",
    "    ax.set_title(\"Parameterization Type: \"+partype)\n",
    "axs[0].set_ylabel(\"Dispersion Misfit, \"+\"$m_{dc}$\")\n",
    "plt.show()"
   ]
  },
  {
   "cell_type": "markdown",
   "metadata": {},
   "source": [
    "### General Settings\n",
    "\n",
    "_Note: If you are considering more than six parameterizations, you must provide additional colors in the list below._\n",
    "\n",
    "[Back to top](#License-Information)"
   ]
  },
  {
   "cell_type": "code",
   "execution_count": null,
   "metadata": {},
   "outputs": [],
   "source": [
    "colors = [\"#adefbb\", \"#588c7e\",\"#e6c833\",\"#f2ae72\",\"#e97816\",\"#a366ff\"]"
   ]
  },
  {
   "cell_type": "markdown",
   "metadata": {},
   "source": [
    "### Plotting Dispersion\n",
    "\n",
    "[Back to top](#License-Information)"
   ]
  },
  {
   "cell_type": "code",
   "execution_count": null,
   "metadata": {},
   "outputs": [],
   "source": [
    "ndc = 1       # Number of \"best\" dispersion curves to plot, may use \"all\".\n",
    "nray = 1      # Number of Rayleigh-wave modes to plot, may use \"all\".\n",
    "nlov = 0      # Number of Love-wave modes to plot, may use \"all\".\n",
    "\n",
    "fig, axs = plt.subplots(nrows=1, ncols=2, sharey=True, figsize=(6,3), dpi=150)\n",
    "\n",
    "# Plot the Theoretical Modes of Inversion Ground Models.\n",
    "color_id = 0\n",
    "for partype in dcs:\n",
    "    for parnumber in dcs[partype]:\n",
    "        best = bestseed[partype][parnumber]\n",
    "        suite = dcs[partype][parnumber][best]\n",
    "        label = f\"{partype}={parnumber} {suite.misfit_repr(nmodels=ndc)}\"\n",
    "        \n",
    "        color = colors[color_id]\n",
    "        for dc_count, dcset in enumerate(suite):\n",
    "            for mode in range(nray):\n",
    "                try:\n",
    "                    dc = dcset.rayleigh[mode]\n",
    "                    axs[1].plot(dc.wavelength, dc.velocity, color=color, label=label)\n",
    "                    label=None\n",
    "                    axs[0].plot(dc.frequency, dc.velocity, color=color, label=label)\n",
    "                except KeyError:\n",
    "                    print(f\"Could not find mode {mode}.\")                    \n",
    "            if dc_count+1 == ndc:\n",
    "                break\n",
    "        color_id += 1\n",
    "    \n",
    "# Plot the Experimental Dispersion Curve\n",
    "ax = axs[0]\n",
    "tar.plot(ax=ax)\n",
    "\n",
    "ax = axs[1]\n",
    "tar.plot(ax=ax, x=\"wavelength\")\n",
    "ax.legend(loc=\"center left\", bbox_to_anchor=(1,0.5))\n",
    "ax.set_ylabel(\"\")\n",
    "\n",
    "plt.show()"
   ]
  },
  {
   "cell_type": "markdown",
   "metadata": {},
   "source": [
    "### Plotting Vs\n",
    "\n",
    "[Back to top](#License-Information)"
   ]
  },
  {
   "cell_type": "code",
   "execution_count": null,
   "metadata": {},
   "outputs": [],
   "source": [
    "ngm = 1             # Number of GroundModels\n",
    "plot_depth = 50     # Maximum plot depth in meters\n",
    "\n",
    "fig, ax = plt.subplots(nrows=1, figsize=(2, 4), dpi=150)\n",
    "color_id = 0\n",
    "all_gm = []\n",
    "for partype in gms:\n",
    "    for parnumber in gms[partype]:\n",
    "        best = bestseed[partype][parnumber]\n",
    "        suite = gms[partype][parnumber][best]    \n",
    "        \n",
    "        label = f\"{partype}={parnumber} {suite.misfit_repr(nmodels=ngm)}\"\n",
    "        for gm in suite[:ngm]:\n",
    "            all_gm.append(gm)\n",
    "            ax.plot(gm.vs2, gm.depth, color=colors[color_id], linewidth=4, label=label)\n",
    "            label=None\n",
    "        color_id += 1\n",
    "    ax.set_ylim(plot_depth, 0)\n",
    "    ax.set_xlabel('Shear Wave Velocity, Vs (m/s)')\n",
    "    ax.set_ylabel('Depth (m)')\n",
    "    ax.legend(bbox_to_anchor=(1, 0.5), loc='center left')\n",
    "plt.show()"
   ]
  },
  {
   "cell_type": "markdown",
   "metadata": {},
   "source": [
    "### Plotting Uncertainty\n",
    "\n",
    "[Back to top](#License-Information)"
   ]
  },
  {
   "cell_type": "code",
   "execution_count": null,
   "metadata": {},
   "outputs": [],
   "source": [
    "fig, ax = plt.subplots(nrows=1, figsize=(2, 4), dpi=150)\n",
    "color_id = 0\n",
    "all_gm_suite = swprepost.GroundModelSuite.from_list(all_gm)\n",
    "ddepth, dsigmaln = all_gm_suite.sigma_ln()\n",
    "ax.plot(dsigmaln, ddepth, linewidth=4)\n",
    "ax.set_ylim(plot_depth, 0)\n",
    "ax.set_xlabel(r\"$\\sigma_{ln,Vs}$\")\n",
    "ax.set_ylabel(\"Depth (m)\")\n",
    "plt.show()"
   ]
  },
  {
   "cell_type": "code",
   "execution_count": null,
   "metadata": {},
   "outputs": [],
   "source": []
  }
 ],
 "metadata": {
  "kernelspec": {
   "name": "pycharm-c2e88679",
   "language": "python",
   "display_name": "PyCharm (PycharmProjects)"
  },
  "language_info": {
   "codemirror_mode": {
    "name": "ipython",
    "version": 3
   },
   "file_extension": ".py",
   "mimetype": "text/x-python",
   "name": "python",
   "nbconvert_exporter": "python",
   "pygments_lexer": "ipython3",
   "version": "3.7.5"
  }
 },
 "nbformat": 4,
 "nbformat_minor": 4
}