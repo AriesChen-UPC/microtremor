{
 "cells": [
  {
   "cell_type": "markdown",
   "metadata": {},
   "source": [
    "# GroundModelSuite\n",
    "\n",
    "> Joseph P. Vantassel, The University of Texas at Austin\n",
    "\n",
    "This file is intended as a gallery for the class `GroundModelSuite` from `swprepost`.\n",
    "\n",
    "## Table of Contents\n",
    "\n",
    "- [GroundModelSuite](#GroundModelSuite)\n",
    "    - [Creating a GroundModelSuite](#Creating-a-GroundModelSuite)\n",
    "        - [GroundModelSuite()](#GroundModel())\n",
    "        - [from_list()](#from_list())\n",
    "        - [from_geopsy()](#from_geopsy())  \n",
    "    - [Working with a GroundModelSuite](#Working-with-a-GroundModelSuite)\n",
    "        - [median()](#median())\n",
    "        - [median_simple()](#median_simple())\n",
    "    - [Saving a GroundModelSuite](#Saving-a-GroundModelSuite)\n",
    "        - [write_to_txt()](#.write_to_txt())"
   ]
  },
  {
   "cell_type": "code",
   "execution_count": 1,
   "metadata": {},
   "outputs": [],
   "source": [
    "import swprepost\n",
    "import numpy as np\n",
    "import matplotlib.pyplot as plt"
   ]
  },
  {
   "cell_type": "markdown",
   "metadata": {},
   "source": [
    "## GroundModelSuite\n",
    "\n",
    "A `GroundModelSuite` is represents an aggregation (i.e., a suite) of `GroundModel` objects."
   ]
  },
  {
   "cell_type": "markdown",
   "metadata": {},
   "source": [
    "### GroundModelSuite()\n",
    "\n",
    "Create a `GroundModelSuite` manually."
   ]
  },
  {
   "cell_type": "code",
   "execution_count": 2,
   "metadata": {},
   "outputs": [
    {
     "name": "stdout",
     "output_type": "stream",
     "text": [
      "<class 'swprepost.groundmodelsuite.GroundModelSuite'>\n",
      "GroundModelSuite with 3 GroundModels.\n",
      "GroundModel 0 = \n",
      "2\n",
      "1.0 200.0 100.0 2000.0\n",
      "0.0 500.0 250.0 2000.0\n",
      "\n",
      "GroundModel 1 = \n",
      "2\n",
      "2.5 500.0 200.0 2000.0\n",
      "0.0 900.0 300.0 2000.0\n",
      "\n",
      "GroundModel 2 = \n",
      "2\n",
      "5.0 400.0 250.0 2000.0\n",
      "0.0 800.0 300.0 2000.0\n",
      "\n"
     ]
    }
   ],
   "source": [
    "# Create 3 ground model objects.\n",
    "gm1 = swprepost.GroundModel(thickness=[1.0,0], vp=[200,500], vs=[100,250], density=[2000,2000])\n",
    "gm2 = swprepost.GroundModel(thickness=[2.5,0], vp=[500,900], vs=[200,300], density=[2000,2000])\n",
    "gm3 = swprepost.GroundModel(thickness=[5.0,0], vp=[400,800], vs=[250,300], density=[2000,2000])\n",
    "\n",
    "# Create GroundModelSuite and Append Additional GroundModels\n",
    "suite = swprepost.GroundModelSuite(groundmodel=gm1)\n",
    "suite.append(groundmodel=gm2)\n",
    "suite.append(groundmodel=gm3)\n",
    "\n",
    "print(type(suite))                    # Type is GroundModelSuite\n",
    "print(suite)                          # String representation\n",
    "for cgm, gm in enumerate(suite):      # View 3 component GroundModels\n",
    "    print(f\"GroundModel {cgm} = \")\n",
    "    print(gm)"
   ]
  },
  {
   "cell_type": "markdown",
   "metadata": {},
   "source": [
    "### from_list()\n",
    "\n",
    "Create a `GroundModelSuite` from a `list` of `GroundModel` objects."
   ]
  },
  {
   "cell_type": "code",
   "execution_count": 3,
   "metadata": {},
   "outputs": [
    {
     "name": "stdout",
     "output_type": "stream",
     "text": [
      "<class 'swprepost.groundmodelsuite.GroundModelSuite'>\n",
      "GroundModelSuite with 3 GroundModels.\n",
      "GroundModel 0 = \n",
      "2\n",
      "1.0 200.0 100.0 2000.0\n",
      "0.0 500.0 250.0 2000.0\n",
      "\n",
      "GroundModel 1 = \n",
      "2\n",
      "2.5 500.0 200.0 2000.0\n",
      "0.0 900.0 300.0 2000.0\n",
      "\n",
      "GroundModel 2 = \n",
      "2\n",
      "5.0 400.0 250.0 2000.0\n",
      "0.0 800.0 300.0 2000.0\n",
      "\n"
     ]
    }
   ],
   "source": [
    "# Create 3 ground model objects.\n",
    "gm1 = swprepost.GroundModel(thickness=[1.0,0], vp=[200,500], vs=[100,250], density=[2000,2000])\n",
    "gm2 = swprepost.GroundModel(thickness=[2.5,0], vp=[500,900], vs=[200,300], density=[2000,2000])\n",
    "gm3 = swprepost.GroundModel(thickness=[5.0,0], vp=[400,800], vs=[250,300], density=[2000,2000])\n",
    "\n",
    "# Same example as previous, but without the manual instantiation.\n",
    "suite = swprepost.GroundModelSuite.from_list(groundmodels=[gm1, gm2, gm3])\n",
    "\n",
    "print(type(suite))                    # Type is GroundModelSuite\n",
    "print(suite)                          # String representation\n",
    "for cgm, gm in enumerate(suite):      # View 3 component GroundModels\n",
    "    print(f\"GroundModel {cgm} = \")\n",
    "    print(gm)"
   ]
  },
  {
   "cell_type": "markdown",
   "metadata": {},
   "source": [
    "### from_geopsy()\n",
    "\n",
    "Create a `GroundModelSuite` from a `.txt` file following the `Geopsy` format."
   ]
  },
  {
   "cell_type": "code",
   "execution_count": 4,
   "metadata": {},
   "outputs": [
    {
     "name": "stdout",
     "output_type": "stream",
     "text": [
      "<class 'swprepost.groundmodelsuite.GroundModelSuite'>\n",
      "GroundModelSuite with 2 GroundModels.\n",
      "GroundModel 0 = \n",
      "7\n",
      "0.68 196.7 120.3 2000.0\n",
      "9.69 295.8 120.3 2000.0\n",
      "0.018 1600.2 120.0 2000.0\n",
      "22.8 1600.2 231.9 2000.0\n",
      "43.9 1600.2 840.9 2000.0\n",
      "576.4 4232.5 840.9 2000.0\n",
      "0.0 4232.5 2095.3 2000.0\n",
      "\n",
      "GroundModel 1 = \n",
      "7\n",
      "0.7 196.7 120.3 2000.0\n",
      "9.1 281.4 120.3 2000.0\n",
      "0.1 1392.1 120.3 2000.0\n",
      "21.9 1392.1 225.1 2000.0\n",
      "61.0 1392.1 840.9 2000.0\n",
      "571.8 4149.1 840.9 2000.0\n",
      "0.0 4149.1 2202.1 2000.0\n",
      "\n"
     ]
    }
   ],
   "source": [
    "fname = \"inputs/from_geopsy_gmsuite.txt\"               # File to be imported.\n",
    "nmodels = \"all\"                                 # Import all available GroundModels.\n",
    "\n",
    "# Create suite.\n",
    "suite = swprepost.GroundModelSuite.from_geopsy(fname=fname, nmodels=nmodels)\n",
    "\n",
    "print(type(suite))                    # Type is GroundModelSuite\n",
    "print(suite)                          # String representation\n",
    "for cgm, gm in enumerate(suite):      # View 3 component GroundModels\n",
    "    print(f\"GroundModel {cgm} = \")\n",
    "    print(gm)"
   ]
  },
  {
   "cell_type": "markdown",
   "metadata": {},
   "source": [
    "## Working with a GroundModelSuite"
   ]
  },
  {
   "cell_type": "markdown",
   "metadata": {},
   "source": [
    "### median()\n",
    "\n",
    "Calculate the median `GroundModel`."
   ]
  },
  {
   "cell_type": "code",
   "execution_count": 5,
   "metadata": {},
   "outputs": [
    {
     "name": "stdout",
     "output_type": "stream",
     "text": [
      "<class 'swprepost.groundmodel.GroundModel'>\n",
      "2\n",
      "2.5 400.0 200.0 2000.0\n",
      "0.0 800.0 300.0 2000.0\n",
      "\n"
     ]
    }
   ],
   "source": [
    "# Create three GroundModels and group them into a GroundModelSuite\n",
    "gm1 = swprepost.GroundModel(thickness=[1.0,0], vp=[200,500], vs=[100,250], density=[2000,2000])\n",
    "gm2 = swprepost.GroundModel(thickness=[2.5,0], vp=[500,900], vs=[200,300], density=[2000,2000])\n",
    "gm3 = swprepost.GroundModel(thickness=[5.0,0], vp=[400,800], vs=[250,300], density=[2000,2000])\n",
    "mysuite = swprepost.GroundModelSuite.from_list([gm1, gm2, gm3])\n",
    "\n",
    "median = mysuite.median(nbest=3)      # Layer-by-layer median using the 3 best GroundModels.\n",
    "print(type(median))                   # See that it returns a GroundModel object.\n",
    "print(median)                         # View new GroundModel."
   ]
  },
  {
   "cell_type": "markdown",
   "metadata": {},
   "source": [
    "### median_simple()\n",
    "\n",
    "Calculate the median of single parameter."
   ]
  },
  {
   "cell_type": "code",
   "execution_count": 6,
   "metadata": {},
   "outputs": [
    {
     "name": "stdout",
     "output_type": "stream",
     "text": [
      "Thickness = [2.5, 0.0] m\n",
      "Vs        = [200.0, 300.0] m/s\n"
     ]
    }
   ],
   "source": [
    "# Create three GroundModels and group them into a GroundModelSuite\n",
    "gm1 = swprepost.GroundModel(thickness=[1.0,0], vp=[200,500], vs=[100,250], density=[2000,2000])\n",
    "gm2 = swprepost.GroundModel(thickness=[2.5,0], vp=[500,900], vs=[200,300], density=[2000,2000])\n",
    "gm3 = swprepost.GroundModel(thickness=[5.0,0], vp=[400,800], vs=[250,300], density=[2000,2000])\n",
    "suite = swprepost.GroundModelSuite.from_list([gm1, gm2, gm3])\n",
    "\n",
    "# Calculate the median of specific parameter\n",
    "thickness, vs = suite.median_simple(nbest=\"all\", parameter=\"vs\") \n",
    "print(f\"Thickness = {thickness} m\")\n",
    "print(f\"Vs        = {vs} m/s\")"
   ]
  },
  {
   "cell_type": "markdown",
   "metadata": {},
   "source": [
    "## Saving a GroundModelSuite"
   ]
  },
  {
   "cell_type": "markdown",
   "metadata": {},
   "source": [
    "### write_to_txt()\n",
    "\n",
    "A useful way to share/store `GroundModel` objects is to group them into a `GroundModelSuite` and write them to a `.txt` file that follows the `Geopsy` format.\n",
    "Remember it can always be read back into a `GroundModelSuite` object using the `from_geopsy()` method."
   ]
  },
  {
   "cell_type": "code",
   "execution_count": 7,
   "metadata": {},
   "outputs": [],
   "source": [
    "# Create three GroundModels and group them into a GroundModelSuite\n",
    "gm1 = swprepost.GroundModel(thickness=[1.0,0], vp=[200,500], vs=[100,250], density=[2000,2000])\n",
    "gm2 = swprepost.GroundModel(thickness=[2.5,0], vp=[500,900], vs=[200,300], density=[2000,2000])\n",
    "gm3 = swprepost.GroundModel(thickness=[5.0,0], vp=[400,800], vs=[250,300], density=[2000,2000])\n",
    "suite = swprepost.GroundModelSuite.from_list([gm1, gm2, gm3])\n",
    "\n",
    "suite.write_to_txt(\"to_gm_suite.txt\")        # Write GroundModelSuite to .txt file following Geopsy format."
   ]
  },
  {
   "cell_type": "code",
   "execution_count": null,
   "metadata": {},
   "outputs": [],
   "source": []
  }
 ],
 "metadata": {
  "kernelspec": {
   "display_name": "Python 3",
   "language": "python",
   "name": "python3"
  },
  "language_info": {
   "codemirror_mode": {
    "name": "ipython",
    "version": 3
   },
   "file_extension": ".py",
   "mimetype": "text/x-python",
   "name": "python",
   "nbconvert_exporter": "python",
   "pygments_lexer": "ipython3",
   "version": "3.7.5"
  }
 },
 "nbformat": 4,
 "nbformat_minor": 4
}
