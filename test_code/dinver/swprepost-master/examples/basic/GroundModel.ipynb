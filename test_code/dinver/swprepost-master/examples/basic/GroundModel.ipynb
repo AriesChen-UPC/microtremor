{
 "cells": [
  {
   "cell_type": "markdown",
   "metadata": {},
   "source": [
    "# GroundModel\n",
    "\n",
    "> Joseph P. Vantassel, The University of Texas at Austin\n",
    "\n",
    "This file is intended as a gallery for the class `GroundModel` from `swprepost`.\n",
    "\n",
    "## Table of Contents\n",
    "\n",
    "- [GroundModel](#GroundModel)\n",
    "    - [Creating a GroundModel](#Creating-a-GroundModel)\n",
    "        - [GroundModel()](#GroundModel())\n",
    "        - [from_simple_profiles()](#from_simple_profiles())\n",
    "        - [from_geopsy()](#from_geopsy())    \n",
    "    - [Working with a GroundModel](#Working-with-a-GroundModel)\n",
    "        - [plotting](#plotting)\n",
    "        - [vs30](#vs30)\n",
    "        - [discretize](#discretize)\n",
    "    - [Saving a GroundModel](#Saving-a-GroundModel)\n",
    "        - [write_to_txt()](#write_to_txt())\n",
    "        - [write_to_mat()](#write_to_mat())"
   ]
  },
  {
   "cell_type": "code",
   "execution_count": 1,
   "metadata": {},
   "outputs": [],
   "source": [
    "import swprepost\n",
    "import numpy\n",
    "import matplotlib.pyplot as plt"
   ]
  },
  {
   "cell_type": "markdown",
   "metadata": {},
   "source": [
    "## GroundModel\n",
    "\n",
    "A `GroundModel` is defined by layers of infinite lateral extent where each layer is represented by its `thickness`,\n",
    "`compression-wave velocity`, `shear-wave velocity`, and `mass density`."
   ]
  },
  {
   "cell_type": "markdown",
   "metadata": {},
   "source": [
    "### Creating a GroundModel\n",
    "\n",
    "This section covers the most common methods for instantiating a `GroundModel` object."
   ]
  },
  {
   "cell_type": "markdown",
   "metadata": {},
   "source": [
    "#### GroundModel()\n",
    "\n",
    "The \"manual\" way of creating a `GroundModel`."
   ]
  },
  {
   "cell_type": "code",
   "execution_count": 2,
   "metadata": {},
   "outputs": [
    {
     "name": "stdout",
     "output_type": "stream",
     "text": [
      "<class 'swprepost.groundmodel.GroundModel'>\n",
      "3\n",
      "2.0 200.0 100.0 2000.0\n",
      "3.0 500.0 200.0 2000.0\n",
      "0.0 600.0 300.0 2000.0\n",
      "\n"
     ]
    }
   ],
   "source": [
    "tk = [2,3,0]          # Define thicknesses in meters of a 3-layered model.\n",
    "vs = [100, 200, 300]  # Define shear-wave velocity (Vs) of each layer in meters/second.\n",
    "vp = [200, 500, 600]  # Define compression-wave velocity (Vp) of each layer in meters/second.\n",
    "rh = [2000]*3         # Define mass density of each layer in kg/m3.\n",
    "      \n",
    "# Create GroundModel object, called gm\n",
    "gm = swprepost.GroundModel(thickness=tk, vp=vp, vs=vs, density=rh)\n",
    "\n",
    "print(type(gm))       # See class of type GroundModel\n",
    "print(gm)             # View string representation of GroundModel, should look familiar ;)"
   ]
  },
  {
   "cell_type": "markdown",
   "metadata": {},
   "source": [
    "#### from_simple_profiles()\n",
    "\n",
    "If you have three 1-D profiles, one for Vs, one for Vp, and one for Mass Density, you could do the math yourself, or you could let\n",
    "the `from_simple_profiles()` method do the math for you! "
   ]
  },
  {
   "cell_type": "code",
   "execution_count": 3,
   "metadata": {},
   "outputs": [
    {
     "name": "stdout",
     "output_type": "stream",
     "text": [
      "<class 'swprepost.groundmodel.GroundModel'>\n",
      "4\n",
      "2.0 300.0 150.0 2000.0\n",
      "1.0 1500.0 150.0 2000.0\n",
      "5.0 1500.0 200.0 2000.0\n",
      "0.0 1500.0 300.0 2000.0\n",
      "\n"
     ]
    }
   ],
   "source": [
    "vp_tk = [2,0]          # Two layers in terms of Vp.\n",
    "vp = [300, 1500]       # Define Vp of first and second layer.\n",
    "\n",
    "vs_tk = [3,5,0]        # Three layers in terms of Vs.\n",
    "vs = [150, 200, 300]   # Define Vs of three layers.\n",
    "\n",
    "rh_tk = [0]            # Use constant mass density.\n",
    "rh = [2000]            # Define value of mass density.\n",
    "\n",
    "# Create GroundModel object, called gm\n",
    "gm = swprepost.GroundModel.from_simple_profiles(vp_tk=vp_tk, vp=vp, vs_tk=vs_tk, vs=vs, rh_tk=rh_tk, rh=rh)\n",
    "\n",
    "print(type(gm))       # See class of type GroundModel\n",
    "print(gm)             # View string representation of GroundModel"
   ]
  },
  {
   "cell_type": "markdown",
   "metadata": {},
   "source": [
    "#### from_geopsy()\n",
    "\n",
    "Instantiate a ground model from a `.txt` file following the `Geopsy` format.\n",
    "\n",
    "_Note: If your file contains multiple groundmodels (as is typical), this method will only read the first and\n",
    "ignore the rest. If you want to read all of the groundmodels in the file, refer to the method `from_geopsy`\n",
    "for the `GroundModelSuite` object._"
   ]
  },
  {
   "cell_type": "code",
   "execution_count": 4,
   "metadata": {},
   "outputs": [
    {
     "name": "stdout",
     "output_type": "stream",
     "text": [
      "<class 'swprepost.groundmodel.GroundModel'>\n",
      "7\n",
      "0.68 196.7 120.3 2000.0\n",
      "9.69 295.8 120.3 2000.0\n",
      "0.018 1600.2 120.0 2000.0\n",
      "22.8 1600.2 231.9 2000.0\n",
      "43.9 1600.2 840.9 2000.0\n",
      "576.4 4232.5 840.9 2000.0\n",
      "0.0 4232.5 2095.3 2000.0\n",
      "\n"
     ]
    }
   ],
   "source": [
    "# Create a GroundModel object from a file called `from_geopsy_gm.txt`.\n",
    "gm = swprepost.GroundModel.from_geopsy(fname=\"inputs/from_geopsy_gm.txt\")\n",
    "\n",
    "print(type(gm))       # See class of type GroundModel\n",
    "print(gm)             # View string representation of GroundModel"
   ]
  },
  {
   "cell_type": "markdown",
   "metadata": {},
   "source": [
    "### Working with a GroundModel"
   ]
  },
  {
   "cell_type": "markdown",
   "metadata": {},
   "source": [
    "#### plotting\n",
    "\n",
    "It is easy to plot `vs`, `vp`, `rh`, and `pr` once you have a `GroundModel` object. "
   ]
  },
  {
   "cell_type": "code",
   "execution_count": 5,
   "metadata": {},
   "outputs": [
    {
     "data": {
      "image/png": "[encoded data removed]",
      "text/plain": [
       "<Figure size 432x288 with 1 Axes>"
      ]
     },
     "metadata": {
      "needs_background": "light"
     },
     "output_type": "display_data"
    },
    {
     "data": {
      "image/png": "[encoded data removed]",
      "text/plain": [
       "<Figure size 432x288 with 1 Axes>"
      ]
     },
     "metadata": {
      "needs_background": "light"
     },
     "output_type": "display_data"
    },
    {
     "data": {
      "image/png": "[encoded data removed]",
      "text/plain": [
       "<Figure size 432x288 with 1 Axes>"
      ]
     },
     "metadata": {
      "needs_background": "light"
     },
     "output_type": "display_data"
    }
   ],
   "source": [
    "# Create a GroundModel object from a file called `from_geopsy_gm.txt`.\n",
    "gm = swprepost.GroundModel.from_geopsy(fname=\"inputs/from_geopsy_gm.txt\")\n",
    "\n",
    "# Plot Vs\n",
    "plt.plot(gm.vs2, gm.depth)                   # Use vs2 and depth to get the iconic \"stair-step\" style\n",
    "plt.ylim(50, 0)\n",
    "plt.xlabel(\"Shear-Wave Velocity, Vs (m/s)\")\n",
    "plt.ylabel(\"Depth (m)\")\n",
    "plt.show()\n",
    "\n",
    "# Plot Vp\n",
    "plt.plot(gm.vp2, gm.depth)                   # Use vp2 and depth to get the iconic \"stair-step\" style\n",
    "plt.ylim(50, 0)\n",
    "plt.xlabel(\"Compression-Wave Velocity, Vp (m/s)\")\n",
    "plt.ylabel(\"Depth (m)\")\n",
    "plt.show()\n",
    "\n",
    "# Plot Poisson's Ratio\n",
    "plt.plot(gm.pr2, gm.depth)                   # Use pr2 and depth to get the iconic \"stair-step\" style\n",
    "plt.ylim(50, 0)\n",
    "plt.xlabel(\"Poisson's Ratio\")\n",
    "plt.ylabel(\"Depth (m)\")\n",
    "plt.show()"
   ]
  },
  {
   "cell_type": "markdown",
   "metadata": {},
   "source": [
    "#### vs30\n",
    "\n",
    "Its also easy to get the time-average shear-wave velocity in the upper 30m (vs30)"
   ]
  },
  {
   "cell_type": "code",
   "execution_count": 6,
   "metadata": {},
   "outputs": [
    {
     "name": "stdout",
     "output_type": "stream",
     "text": [
      "Vs30 = 175.5 m/s\n"
     ]
    }
   ],
   "source": [
    "# Create a GroundModel object from a file called `from_geopsy_gm.txt`.\n",
    "gm = swprepost.GroundModel.from_geopsy(fname=\"inputs/from_geopsy_gm.txt\")\n",
    "\n",
    "# Print Vs30 rounded to the nearest 0.1 m/s\n",
    "print(f\"Vs30 = {round(gm.vs30,1)} m/s\")"
   ]
  },
  {
   "cell_type": "markdown",
   "metadata": {},
   "source": [
    "#### discretize()\n",
    "\n",
    "It is also easy to discretize the different parts of the `GroundModel`.\n",
    "\n",
    "_Note: Is is not recommended to plot discretized profiles unless `dy` is fairly small (say <0.25m) because the discretization\n",
    "will make it appear as if layer boundaries have shifted from their true location._"
   ]
  },
  {
   "cell_type": "code",
   "execution_count": 7,
   "metadata": {},
   "outputs": [
    {
     "name": "stdout",
     "output_type": "stream",
     "text": [
      "Discretized Depth = [0.0, 1.0, 2.0, 3.0, 4.0, 5.0, 6.0, 7.0, 8.0, 9.0, 10.0, 11.0, 12.0, 13.0, 14.0, 15.0, 16.0, 17.0, 18.0, 19.0, 20.0]\n",
      "Discretized Vs    = [120.3, 120.3, 120.3, 120.3, 120.3, 120.3, 120.3, 120.3, 120.3, 120.3, 120.3, 231.9, 231.9, 231.9, 231.9, 231.9, 231.9, 231.9, 231.9, 231.9, 231.9]\n"
     ]
    }
   ],
   "source": [
    "# Create a GroundModel object from a file called `from_geopsy_gm.txt`.\n",
    "gm = swprepost.GroundModel.from_geopsy(fname=\"inputs/from_geopsy_gm.txt\")\n",
    "\n",
    "dmax = 20                                               # Discretize down to 20m.\n",
    "dy = 1                                                  # Split profile at 1m increments.\n",
    "par=\"vs\"                                                # Perform discretization on Vs\n",
    "depth, param = gm.discretize(dmax, dy, parameter=par)   # Perform discretization\n",
    "\n",
    "print(f\"Discretized Depth = {depth}\")      # View discretized depth\n",
    "print(f\"Discretized Vs    = {param}\")      # View discretized Vs"
   ]
  },
  {
   "cell_type": "markdown",
   "metadata": {},
   "source": [
    "### Saving a GroundModel"
   ]
  },
  {
   "cell_type": "markdown",
   "metadata": {},
   "source": [
    "#### write_to_txt()\n",
    "\n",
    "You may wish to write a `GroundModel` to `.txt` format for many reasons, including further calculations using the `Geospy` suite.\n",
    "The `write_to_txt()` method will allow you to write your `GroundModel` to a text file and comply with the `Geopsy` format."
   ]
  },
  {
   "cell_type": "code",
   "execution_count": 8,
   "metadata": {},
   "outputs": [],
   "source": [
    "tk = [2,3,0]          # Define thicknesses in meters of a 3-layered model.\n",
    "vs = [100, 200, 300]  # Define shear-wave velocity (Vs) of each layer in meters/second.\n",
    "vp = [200, 500, 600]  # Define compression-wave velocity (Vp) of each layer in meters/second.\n",
    "rh = [2000]*3         # Define mass density of each layer in kg/m3.\n",
    "      \n",
    "# Create GroundModel object, called gm\n",
    "gm = swprepost.GroundModel(thickness=tk, vp=vp, vs=vs, density=rh)\n",
    "\n",
    "# Write GroundModel to Geopsy format\n",
    "gm.write_to_txt(\"to_gm0.txt\")"
   ]
  },
  {
   "cell_type": "markdown",
   "metadata": {},
   "source": [
    "#### write_to_mat()\n",
    "\n",
    "If you or your colleages ;) are users of `MATLAB` you can share your `GroundModel` using the `.mat` binary format."
   ]
  },
  {
   "cell_type": "code",
   "execution_count": 9,
   "metadata": {},
   "outputs": [],
   "source": [
    "tk = [2,3,0]          # Define thicknesses in meters of a 3-layered model.\n",
    "vs = [100, 200, 300]  # Define shear-wave velocity (Vs) of each layer in meters/second.\n",
    "vp = [200, 500, 600]  # Define compression-wave velocity (Vp) of each layer in meters/second.\n",
    "rh = [2000]*3         # Define mass density of each layer in kg/m3.\n",
    "      \n",
    "# Create GroundModel object, called gm\n",
    "gm = swprepost.GroundModel(thickness=tk, vp=vp, vs=vs, density=rh)\n",
    "\n",
    "# Write GroundModel to Geopsy format\n",
    "gm.write_to_mat(\"to_gm0\")"
   ]
  },
  {
   "cell_type": "code",
   "execution_count": null,
   "metadata": {},
   "outputs": [],
   "source": []
  }
 ],
 "metadata": {
  "kernelspec": {
   "display_name": "Python 3",
   "language": "python",
   "name": "python3"
  },
  "language_info": {
   "codemirror_mode": {
    "name": "ipython",
    "version": 3
   },
   "file_extension": ".py",
   "mimetype": "text/x-python",
   "name": "python",
   "nbconvert_exporter": "python",
   "pygments_lexer": "ipython3",
   "version": "3.7.5"
  }
 },
 "nbformat": 4,
 "nbformat_minor": 4
}
