{
 "cells": [
  {
   "cell_type": "markdown",
   "metadata": {},
   "source": [
    "# Create mseed\n",
    "\n",
    "> Joseph P. Vantassel, The University of Texas at Austin\n",
    "\n",
    "Create example miniseed files to test `swprocess.utils.extract_miniseed`."
   ]
  },
  {
   "cell_type": "code",
   "execution_count": 11,
   "metadata": {},
   "outputs": [],
   "source": [
    "import datetime\n",
    "\n",
    "import numpy as np\n",
    "import obspy"
   ]
  },
  {
   "cell_type": "code",
   "execution_count": 13,
   "metadata": {},
   "outputs": [],
   "source": [
    "start_master = obspy.UTCDateTime(2020, 12, 31, 0)\n",
    "for d in range(2):\n",
    "    for n in range(24):\n",
    "        delta = datetime.timedelta(days=d, hours=n).total_seconds()\n",
    "        starttime = start_master + delta\n",
    "        \n",
    "        start_seconds = 3600*n + 3600*24*d\n",
    "        trace = obspy.Trace(np.arange(3600) + start_seconds, header=dict(starttime=starttime, network=\"NW\", station=\"STN01\", channel=\"BHZ\"))\n",
    "        obspy.Stream([trace]).write(f\"NW.STN01_{starttime.year}{str(starttime.month).zfill(2)}{str(starttime.day).zfill(2)}_{str(n).zfill(2)}0000.mseed\")"
   ]
  },
  {
   "cell_type": "code",
   "execution_count": null,
   "metadata": {},
   "outputs": [],
   "source": []
  }
 ],
 "metadata": {
  "kernelspec": {
   "display_name": "Python 3",
   "language": "python",
   "name": "python3"
  },
  "language_info": {
   "codemirror_mode": {
    "name": "ipython",
    "version": 3
   },
   "file_extension": ".py",
   "mimetype": "text/x-python",
   "name": "python",
   "nbconvert_exporter": "python",
   "pygments_lexer": "ipython3",
   "version": "3.7.5"
  }
 },
 "nbformat": 4,
 "nbformat_minor": 4
}
