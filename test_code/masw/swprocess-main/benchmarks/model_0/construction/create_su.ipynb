{
 "cells": [
  {
   "cell_type": "markdown",
   "metadata": {},
   "source": [
    "# Create `SU`\n",
    "\n",
    "> Joseph P. Vantassel, The University of Texas at Austin\n",
    "\n",
    "Load data `.csv` data from LS-DYNA and write to `SU` format."
   ]
  },
  {
   "cell_type": "code",
   "execution_count": 1,
   "metadata": {},
   "outputs": [],
   "source": [
    "import numpy as np\n",
    "import pandas as pd\n",
    "from scipy.interpolate import interp1d\n",
    "\n",
    "import swprocess"
   ]
  },
  {
   "cell_type": "markdown",
   "metadata": {},
   "source": [
    "## Constant Spacing"
   ]
  },
  {
   "cell_type": "code",
   "execution_count": 2,
   "metadata": {},
   "outputs": [],
   "source": [
    "dt = 0.001\n",
    "desired_time = np.arange(0, 1.5, dt)\n",
    "\n",
    "# desired_xmin, desired_xmax, desired_dx = 5.05, 51.05, 2.\n",
    "# desired_xmin, desired_xmax, desired_dx = 10.05, 56.05, 2.\n",
    "desired_xmin, desired_xmax, desired_dx = 20.05, 66.05, 2.\n",
    "\n",
    "source = swprocess.Source(x=0.05, y=0, z=0)\n",
    "\n",
    "current_x, dx = 0.0, 0.05\n",
    "current_desired_x = desired_xmin\n",
    "sensors = []\n",
    "for setnumber in range(14):\n",
    "    fname = f\"set{str(setnumber).zfill(2)}.csv\"\n",
    "    \n",
    "    with open(fname, \"r\") as f:\n",
    "        ncols = f.readlines()[1].count(\",\")\n",
    "      \n",
    "    df = pd.read_csv(fname, usecols=np.arange(0, ncols), names=[\"time\", *[x for x in np.arange(ncols)]], skiprows=2, skipinitialspace=True)\n",
    "    \n",
    "    xs = np.arange(ncols-1)*dx + current_x\n",
    "    current_x = float(xs[-1]) + dx\n",
    "    \n",
    "    for col, _x in enumerate(xs):\n",
    "        \n",
    "        if np.abs(_x - current_desired_x) > dx/2:\n",
    "            continue\n",
    "            \n",
    "        interpolator = interp1d(x=df[\"time\"], y=df[col], kind=\"cubic\")\n",
    "        sensor = swprocess.Sensor1C(amplitude=np.array(interpolator(desired_time), dtype=np.float32), dt=dt, x=_x, y=0, z=0)\n",
    "        sensors.append(sensor)\n",
    "        \n",
    "        current_desired_x += desired_dx\n",
    "        \n",
    "        if current_desired_x > desired_xmax:\n",
    "            break\n",
    "\n",
    "    if current_desired_x > desired_xmax:\n",
    "        break\n",
    "\n",
    "array = swprocess.Array1D(sensors, source)\n",
    "\n",
    "# array.to_file(\"46m_2m_-5m.su\")\n",
    "# array.to_file(\"46m_2m_-10m.su\")\n",
    "array.to_file(\"46m_2m_-20m.su\")"
   ]
  },
  {
   "cell_type": "markdown",
   "metadata": {},
   "source": [
    "## Non-constant Spacing"
   ]
  },
  {
   "cell_type": "code",
   "execution_count": 3,
   "metadata": {},
   "outputs": [],
   "source": [
    "dt = 0.001\n",
    "desired_time = np.arange(0, 1.5, dt)\n",
    "# desired_xs = [5, 6, 7, 8, 9, 10, 11, 12, 14, 16, 18, 20, 22, 24, 26, 28, 30, 35, 40, 45, 50, 55, 60, 65]\n",
    "desired_xs = [10, 11, 12, 13, 14, 15, 16, 17, 18, 19, 20, 22, 24, 26, 28, 30, 35, 40, 45, 50, 55, 60, 65, 70]\n",
    "desired_xs = [ x + 0.05 for x in desired_xs]\n",
    "desired_x_index = 0\n",
    "\n",
    "current_x, dx = 0.0, 0.05\n",
    "current_desired_x = desired_xs[desired_x_index]\n",
    "\n",
    "source = swprocess.Source(x=0.05, y=0, z=0)\n",
    "\n",
    "sensors = []\n",
    "for setnumber in range(14):\n",
    "    fname = f\"set{str(setnumber).zfill(2)}.csv\"\n",
    "    \n",
    "    with open(fname, \"r\") as f:\n",
    "        ncols = f.readlines()[1].count(\",\")\n",
    "      \n",
    "    df = pd.read_csv(fname, usecols=np.arange(0, ncols), names=[\"time\", *[x for x in np.arange(ncols)]], skiprows=2, skipinitialspace=True)\n",
    "    \n",
    "    xs = np.arange(ncols-1)*dx + current_x\n",
    "    current_x = float(xs[-1]) + dx\n",
    "    \n",
    "    for col, _x in enumerate(xs):\n",
    "        \n",
    "        if np.abs(_x - current_desired_x) > dx/2:\n",
    "            continue\n",
    "            \n",
    "        interpolator = interp1d(x=df[\"time\"], y=df[col], kind=\"cubic\")\n",
    "        sensor = swprocess.Sensor1C(amplitude=np.array(interpolator(desired_time), dtype=np.float32), dt=dt, x=_x, y=0, z=0)\n",
    "        sensors.append(sensor)\n",
    "        \n",
    "        desired_x_index += 1\n",
    "        \n",
    "        if desired_x_index == len(desired_xs):\n",
    "            break\n",
    "\n",
    "        current_desired_x = desired_xs[desired_x_index]\n",
    "        \n",
    "array = swprocess.Array1D(sensors, source)\n",
    "\n",
    "# array.to_file(\"60m_Xm_-5m.su\")\n",
    "array.to_file(\"60m_Xm_-10m.su\")"
   ]
  },
  {
   "cell_type": "code",
   "execution_count": null,
   "metadata": {},
   "outputs": [],
   "source": []
  }
 ],
 "metadata": {
  "kernelspec": {
   "display_name": "Python 3",
   "language": "python",
   "name": "python3"
  },
  "language_info": {
   "codemirror_mode": {
    "name": "ipython",
    "version": 3
   },
   "file_extension": ".py",
   "mimetype": "text/x-python",
   "name": "python",
   "nbconvert_exporter": "python",
   "pygments_lexer": "ipython3",
   "version": "3.7.5"
  }
 },
 "nbformat": 4,
 "nbformat_minor": 4
}
