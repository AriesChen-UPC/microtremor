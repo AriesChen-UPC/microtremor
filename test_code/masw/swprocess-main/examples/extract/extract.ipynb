{
 "cells": [
  {
   "cell_type": "markdown",
   "metadata": {},
   "source": [
    "## License Information\n",
    "---\n",
    "\n",
    "This file is distributed as part of _swprocess_, a Python package for surface wave processing.\n",
    "\n",
    "    Copyright (C) 2020 Joseph P. Vantassel (jvantassel@utexas.edu)\n",
    "\n",
    "    This program is free software: you can redistribute it and/or modify\n",
    "    it under the terms of the GNU General Public License as published by\n",
    "    the Free Software Foundation, either version 3 of the License, or\n",
    "    (at your option) any later version.\n",
    "\n",
    "    This program is distributed in the hope that it will be useful,\n",
    "    but WITHOUT ANY WARRANTY; without even the implied warranty of\n",
    "    MERCHANTABILITY or FITNESS FOR A PARTICULAR PURPOSE.  See the\n",
    "    GNU General Public License for more details.\n",
    "\n",
    "    You should have received a copy of the GNU General Public License\n",
    "    along with this program.  If not, see <https: //www.gnu.org/licenses/>.\n",
    "    \n",
    "## About _swprocess_ and this notebook\n",
    "---\n",
    "\n",
    "_swprocess_ is a Python package for surface wave processing. _swprocess_ was developed by\n",
    "Joseph P. Vantassel under the supervision of Professor Brady R. Cox at The University of\n",
    "Texas at Austin.\n",
    "\n",
    "If you use _swprocess_ in your research or consulting, we ask you please cite the following:\n",
    "\n",
    "> Vantassel, J. P. (2021). jpvantassel/swprocess: latest (Concept). Zenodo.\n",
    "> [https://doi.org/10.5281/zenodo.4584128](https://doi.org/10.5281/zenodo.4584128)\n",
    "\n",
    "> Vantassel, J. P. & Cox, B. R. (2021). \"SWprocess: A workflow for developing robust\n",
    "> estimates of surface wave dispersion uncertainty\". Submitted to a special edition of the\n",
    "> Journal of Seismology organized by the Consortium of Organizations for Strong Motion\n",
    "> Observation Systems (COSMOS)\n",
    "\n",
    "_Note: For software, version specific citations should be preferred to\n",
    "general concept citations, such as that listed above. To generate a version\n",
    "specific citation for _swprocess_, please use the citation tool on the _swprocess_\n",
    "[archive](https://doi.org/10.5281/zenodo.4584128)._\n",
    "\n",
    "This notebook hosts a utility for combining multiple hours of passive-wavefield data\n",
    "for the purpose of extracting a shorter record for subsequent processing.\n",
    "To explain a common use case, consider 1.5 hours of MAM data were acquired between 10:45 and 12:15.\n",
    "As most digitzers save passive-wavefield data into 1 hour blocks the data to be extracted for\n",
    "passive processing spans three files (i.e., the files for 10, 11, and 12). This notebook\n",
    "allows you load all three files into memory, extract the 1.5 hours of interest, and write the extracted\n",
    "segement back to the miniseed format for later use. This process avoids the hassle of always having to\n",
    "load all three files and checking the meta data for the appropriate start and stop time prior to processing.\n",
    "Note that unlike the other examples provided with _swprocess_ no example raw data files\n",
    "are provided here.\n",
    "\n",
    "## Getting Started\n",
    "---\n",
    "\n",
    "1. Install _swprocess_ and its dependencies, with `pip install swprocess`. If you are not familiar with `pip`, a useful tutorial can be found [here](https://jpvantassel.github.io/python3-course/#/intro/pip). __(~3 minutes)__ \n",
    "2. Use this notebook and the file `extract_startandend.csv` to extract data for your next project. __(~10 minutes)__\n",
    "\n",
    "_Note that unlike the other examples provided with _swprocess_ no example raw data files are provided here._\n",
    "\n",
    "Happy Processing!"
   ]
  },
  {
   "cell_type": "code",
   "execution_count": 1,
   "metadata": {},
   "outputs": [],
   "source": [
    "from swprocess import utils"
   ]
  },
  {
   "cell_type": "code",
   "execution_count": 2,
   "metadata": {},
   "outputs": [],
   "source": [
    "utils.extract_mseed(\"extract_startandend.csv\", network=\"NW\", data_dir=\"passive/\", extension=\"miniseed\")"
   ]
  },
  {
   "cell_type": "code",
   "execution_count": null,
   "metadata": {},
   "outputs": [],
   "source": []
  }
 ],
 "metadata": {
  "kernelspec": {
   "display_name": "Python 3",
   "language": "python",
   "name": "python3"
  },
  "language_info": {
   "codemirror_mode": {
    "name": "ipython",
    "version": 3
   },
   "file_extension": ".py",
   "mimetype": "text/x-python",
   "name": "python",
   "nbconvert_exporter": "python",
   "pygments_lexer": "ipython3",
   "version": "3.7.5"
  }
 },
 "nbformat": 4,
 "nbformat_minor": 4
}
